{
 "cells": [
  {
   "cell_type": "markdown",
   "id": "cb0a29fd",
   "metadata": {},
   "source": [
    "# Cars4U Pricing Analysis and Prediction"
   ]
  },
  {
   "cell_type": "markdown",
   "id": "5eff905f",
   "metadata": {},
   "source": [
    "## Background"
   ]
  },
  {
   "cell_type": "markdown",
   "id": "7702eeec",
   "metadata": {},
   "source": [
    "Cars4U is a budding tech start-up that aims to break into the pre-owned cars market. Unlike new cars whose prices are certain, various factors determine the price of pre-owned cars and it is important to be able to predict the prices for a chance to grow in the market."
   ]
  },
  {
   "cell_type": "markdown",
   "id": "04fbbcec",
   "metadata": {},
   "source": [
    "## Objective"
   ]
  },
  {
   "cell_type": "markdown",
   "id": "b3dd18e6",
   "metadata": {},
   "source": [
    "This project aims to analyse the available data on used cars, build a linear regression model to effectively predict their prices, and generate insights and recommendations that will help the business devise profitable strategies."
   ]
  },
  {
   "cell_type": "markdown",
   "id": "d5a47b86",
   "metadata": {},
   "source": [
    "## Data Description"
   ]
  },
  {
   "cell_type": "markdown",
   "id": "777db875",
   "metadata": {},
   "source": [
    "The data provides the different attributes of used cars sold in different locations. The detailed data dictionary is given below:\n",
    "- **S.No.:** Serial number\n",
    "- **Name:** Name of the car which includes brand name and model name\n",
    "- **Location:** Location in which the car is being sold or is available for purchase\n",
    "- **Year:** Manufacturing year of the car\n",
    "- **Kilometers_driven:** The total kilometers (a unit used to measure length or distance) driven in the car by the previous owner(s)\n",
    "- **Fuel_Type:** The type of fuel used by the car (Petrol, Diesel, Electric, CNG, LPG)\n",
    "- **Transmission:** The type of transmission used by the car (Automatic/Manual)\n",
    "- **Owner:** Type of ownership\n",
    "- **Mileage:** The standard mileage offered by the car company in kmpl or km/kg\n",
    "- **Engine:** The displacement volume of the engine in CC\n",
    "- **Power:** The maximum power of the engine in bhp\n",
    "- **Seats:** The number of seats in the car\n",
    "- **New_Price:** The price of a new car of the same model in dollars\n",
    "- **Price:** The price of the used car in dollars"
   ]
  },
  {
   "cell_type": "markdown",
   "id": "b1ff24a8",
   "metadata": {},
   "source": [
    "## Analysis and Prediction"
   ]
  },
  {
   "cell_type": "markdown",
   "id": "4745db86",
   "metadata": {},
   "source": [
    "### Import the required packages"
   ]
  },
  {
   "cell_type": "code",
   "execution_count": 832,
   "id": "d9c57184",
   "metadata": {},
   "outputs": [],
   "source": [
    "import pandas as pd  #For loading and manipulating the data \n",
    "import numpy as np #For numerical computations\n",
    "\n",
    "# For data visualisation\n",
    "import seaborn as sns\n",
    "import matplotlib.pyplot as plt\n",
    "\n",
    "# To split the data into train and test sets\n",
    "from sklearn.model_selection import train_test_split\n",
    "\n",
    "# For data normalisation\n",
    "from sklearn.preprocessing import StandardScaler, MinMaxScaler, PolynomialFeatures\n",
    "\n",
    "# For building linear models\n",
    "from sklearn.linear_model import LinearRegression, Ridge, Lasso\n",
    "\n",
    "# For measuring the performance of the model\n",
    "from sklearn.metrics import accuracy_score, mean_squared_error, r2_score, mean_absolute_error"
   ]
  },
  {
   "cell_type": "markdown",
   "id": "755af914",
   "metadata": {},
   "source": [
    "### Load the dataset"
   ]
  },
  {
   "cell_type": "code",
   "execution_count": 833,
   "id": "485f2d53",
   "metadata": {},
   "outputs": [
    {
     "data": {
      "text/html": [
       "<div>\n",
       "<style scoped>\n",
       "    .dataframe tbody tr th:only-of-type {\n",
       "        vertical-align: middle;\n",
       "    }\n",
       "\n",
       "    .dataframe tbody tr th {\n",
       "        vertical-align: top;\n",
       "    }\n",
       "\n",
       "    .dataframe thead th {\n",
       "        text-align: right;\n",
       "    }\n",
       "</style>\n",
       "<table border=\"1\" class=\"dataframe\">\n",
       "  <thead>\n",
       "    <tr style=\"text-align: right;\">\n",
       "      <th></th>\n",
       "      <th>S.No.</th>\n",
       "      <th>Name</th>\n",
       "      <th>Location</th>\n",
       "      <th>Year</th>\n",
       "      <th>Kilometers_Driven</th>\n",
       "      <th>Fuel_Type</th>\n",
       "      <th>Transmission</th>\n",
       "      <th>Owner_Type</th>\n",
       "      <th>Mileage</th>\n",
       "      <th>Engine</th>\n",
       "      <th>Power</th>\n",
       "      <th>Seats</th>\n",
       "      <th>New_Price</th>\n",
       "      <th>Price</th>\n",
       "    </tr>\n",
       "  </thead>\n",
       "  <tbody>\n",
       "    <tr>\n",
       "      <th>0</th>\n",
       "      <td>0</td>\n",
       "      <td>Maruti Wagon R LXI CNG</td>\n",
       "      <td>Mumbai</td>\n",
       "      <td>2010</td>\n",
       "      <td>72000</td>\n",
       "      <td>CNG</td>\n",
       "      <td>Manual</td>\n",
       "      <td>First</td>\n",
       "      <td>26.6 km/kg</td>\n",
       "      <td>998 CC</td>\n",
       "      <td>58.16 bhp</td>\n",
       "      <td>5.0</td>\n",
       "      <td>5.51</td>\n",
       "      <td>1.75</td>\n",
       "    </tr>\n",
       "    <tr>\n",
       "      <th>1</th>\n",
       "      <td>1</td>\n",
       "      <td>Hyundai Creta 1.6 CRDi SX Option</td>\n",
       "      <td>Pune</td>\n",
       "      <td>2015</td>\n",
       "      <td>41000</td>\n",
       "      <td>Diesel</td>\n",
       "      <td>Manual</td>\n",
       "      <td>First</td>\n",
       "      <td>19.67 kmpl</td>\n",
       "      <td>1582 CC</td>\n",
       "      <td>126.2 bhp</td>\n",
       "      <td>5.0</td>\n",
       "      <td>16.06</td>\n",
       "      <td>12.50</td>\n",
       "    </tr>\n",
       "    <tr>\n",
       "      <th>2</th>\n",
       "      <td>2</td>\n",
       "      <td>Honda Jazz V</td>\n",
       "      <td>Chennai</td>\n",
       "      <td>2011</td>\n",
       "      <td>46000</td>\n",
       "      <td>Petrol</td>\n",
       "      <td>Manual</td>\n",
       "      <td>First</td>\n",
       "      <td>18.2 kmpl</td>\n",
       "      <td>1199 CC</td>\n",
       "      <td>88.7 bhp</td>\n",
       "      <td>5.0</td>\n",
       "      <td>8.61</td>\n",
       "      <td>4.50</td>\n",
       "    </tr>\n",
       "    <tr>\n",
       "      <th>3</th>\n",
       "      <td>3</td>\n",
       "      <td>Maruti Ertiga VDI</td>\n",
       "      <td>Chennai</td>\n",
       "      <td>2012</td>\n",
       "      <td>87000</td>\n",
       "      <td>Diesel</td>\n",
       "      <td>Manual</td>\n",
       "      <td>First</td>\n",
       "      <td>20.77 kmpl</td>\n",
       "      <td>1248 CC</td>\n",
       "      <td>88.76 bhp</td>\n",
       "      <td>7.0</td>\n",
       "      <td>11.27</td>\n",
       "      <td>6.00</td>\n",
       "    </tr>\n",
       "    <tr>\n",
       "      <th>4</th>\n",
       "      <td>4</td>\n",
       "      <td>Audi A4 New 2.0 TDI Multitronic</td>\n",
       "      <td>Coimbatore</td>\n",
       "      <td>2013</td>\n",
       "      <td>40670</td>\n",
       "      <td>Diesel</td>\n",
       "      <td>Automatic</td>\n",
       "      <td>Second</td>\n",
       "      <td>15.2 kmpl</td>\n",
       "      <td>1968 CC</td>\n",
       "      <td>140.8 bhp</td>\n",
       "      <td>5.0</td>\n",
       "      <td>53.14</td>\n",
       "      <td>17.74</td>\n",
       "    </tr>\n",
       "  </tbody>\n",
       "</table>\n",
       "</div>"
      ],
      "text/plain": [
       "   S.No.                              Name    Location  Year  \\\n",
       "0      0            Maruti Wagon R LXI CNG      Mumbai  2010   \n",
       "1      1  Hyundai Creta 1.6 CRDi SX Option        Pune  2015   \n",
       "2      2                      Honda Jazz V     Chennai  2011   \n",
       "3      3                 Maruti Ertiga VDI     Chennai  2012   \n",
       "4      4   Audi A4 New 2.0 TDI Multitronic  Coimbatore  2013   \n",
       "\n",
       "   Kilometers_Driven Fuel_Type Transmission Owner_Type     Mileage   Engine  \\\n",
       "0              72000       CNG       Manual      First  26.6 km/kg   998 CC   \n",
       "1              41000    Diesel       Manual      First  19.67 kmpl  1582 CC   \n",
       "2              46000    Petrol       Manual      First   18.2 kmpl  1199 CC   \n",
       "3              87000    Diesel       Manual      First  20.77 kmpl  1248 CC   \n",
       "4              40670    Diesel    Automatic     Second   15.2 kmpl  1968 CC   \n",
       "\n",
       "       Power  Seats  New_Price  Price  \n",
       "0  58.16 bhp    5.0       5.51   1.75  \n",
       "1  126.2 bhp    5.0      16.06  12.50  \n",
       "2   88.7 bhp    5.0       8.61   4.50  \n",
       "3  88.76 bhp    7.0      11.27   6.00  \n",
       "4  140.8 bhp    5.0      53.14  17.74  "
      ]
     },
     "execution_count": 833,
     "metadata": {},
     "output_type": "execute_result"
    }
   ],
   "source": [
    "# Loading the data\n",
    "cars_df = pd.read_csv('used_cars_data-1.csv')\n",
    "\n",
    "# Making a copy of the dataset to preserve the integrity of the original one\n",
    "df = cars_df.copy()\n",
    "\n",
    "# Displaying the first 5 rows of the dataset\n",
    "df. head()"
   ]
  },
  {
   "cell_type": "markdown",
   "id": "5302a65e",
   "metadata": {},
   "source": [
    "**Observations:**\n",
    "- The \"S.No.\" column is unnecessary and should be dropped\n",
    "- The \"Mileage\" column has different S.I Units (km/kg and kmpl) and should be standardized\n",
    "- All S.I Units in \"Mileage\", \"Engine\" and \"Power\" are to be removed and values type converted to floats (Mileage and Power) and integers (Engine)"
   ]
  },
  {
   "cell_type": "markdown",
   "id": "11962e39",
   "metadata": {},
   "source": [
    "### Exploratory Data Analysis"
   ]
  },
  {
   "cell_type": "markdown",
   "id": "8dbabe6b",
   "metadata": {},
   "source": [
    "**Dimension of the data**"
   ]
  },
  {
   "cell_type": "code",
   "execution_count": 834,
   "id": "deea0ff5",
   "metadata": {},
   "outputs": [
    {
     "data": {
      "text/plain": [
       "(7253, 14)"
      ]
     },
     "execution_count": 834,
     "metadata": {},
     "output_type": "execute_result"
    }
   ],
   "source": [
    "# Checking the dimension of the data\n",
    "df.shape"
   ]
  },
  {
   "cell_type": "markdown",
   "id": "3c1a0da2",
   "metadata": {},
   "source": [
    "There are 7253 rows and 14 columns in the data"
   ]
  },
  {
   "cell_type": "markdown",
   "id": "802ba24d",
   "metadata": {},
   "source": [
    "**Dropping the S.No. column**"
   ]
  },
  {
   "cell_type": "code",
   "execution_count": 835,
   "id": "14bb686a",
   "metadata": {},
   "outputs": [],
   "source": [
    "# Dropping the unnecessary 'S.No.' column\n",
    "df.drop('S.No.', axis=1, inplace=True)"
   ]
  },
  {
   "cell_type": "code",
   "execution_count": 836,
   "id": "fabc06bd",
   "metadata": {},
   "outputs": [
    {
     "data": {
      "text/plain": [
       "(7253, 13)"
      ]
     },
     "execution_count": 836,
     "metadata": {},
     "output_type": "execute_result"
    }
   ],
   "source": [
    "# Quality check\n",
    "df.shape"
   ]
  },
  {
   "cell_type": "markdown",
   "id": "f52d390e",
   "metadata": {},
   "source": [
    "**Creating the Mileage_Unit column**"
   ]
  },
  {
   "cell_type": "markdown",
   "id": "88ab49bc",
   "metadata": {},
   "source": [
    "I would be stripping the units from the Mileage column and creating the Mileage_Unit column to house them as a way to standardize the Mileage column."
   ]
  },
  {
   "cell_type": "code",
   "execution_count": 837,
   "id": "bdf4a048",
   "metadata": {},
   "outputs": [],
   "source": [
    "# function to get the mileage unit\n",
    "def split_value(variable, needed_index):\n",
    "    \"\"\"Function to split a value\n",
    "    Args:\n",
    "        variable: a column from the dataset\n",
    "        needed_index: the index of the needed value in the list created from the split method\n",
    "    Returns:\n",
    "        value: the needed value\n",
    "    \"\"\"\n",
    "    try:\n",
    "        value = variable.split(' ') # creates a list of the space separated value items\n",
    "        return value[needed_index] # returns the needed value from the list\n",
    "    except: # this would help bypass null values that could cause an error\n",
    "        return variable #in case a null value is encountered, return the value as is\n",
    "    \n",
    "# Creating the 'Mileage_Unit' column\n",
    "df['Mileage_Unit'] = df['Mileage'].apply(split_value, needed_index=1) # index 1 represents the mileage unit"
   ]
  },
  {
   "cell_type": "markdown",
   "id": "894b7b76",
   "metadata": {},
   "source": [
    "**Removing S.I units from the Mileage, Engine and Power columns and Type Conversion**"
   ]
  },
  {
   "cell_type": "code",
   "execution_count": 838,
   "id": "2fcc5f24",
   "metadata": {},
   "outputs": [],
   "source": [
    "# function to remove the units from the columns\n",
    "def remove_unit(column):\n",
    "    \"\"\"Function to remove the units from the columns\n",
    "    Args:\n",
    "        column: a value in the chosen column from the dataset\n",
    "    Returns:\n",
    "        column: the numerical type converted value with the unit removed\n",
    "    \"\"\"\n",
    "    try:\n",
    "        si_unit = column.split(' ') # creating a list with the value and the unit as list items\n",
    "        column = float(si_unit[0]) #replacing the initial value with the number and type converting\n",
    "        return column\n",
    "    except:\n",
    "        pass\n",
    "\n",
    "df['Mileage'] = df['Mileage'].apply(remove_unit) # applying the function to the Mileage column\n",
    "df['Engine'] = df['Engine'].apply(remove_unit) # applying the function to the Engine column\n",
    "df['Power'] = df['Power'].apply(remove_unit) # applying the function to the Power column"
   ]
  },
  {
   "cell_type": "code",
   "execution_count": 839,
   "id": "a86b1b05",
   "metadata": {},
   "outputs": [
    {
     "data": {
      "text/html": [
       "<div>\n",
       "<style scoped>\n",
       "    .dataframe tbody tr th:only-of-type {\n",
       "        vertical-align: middle;\n",
       "    }\n",
       "\n",
       "    .dataframe tbody tr th {\n",
       "        vertical-align: top;\n",
       "    }\n",
       "\n",
       "    .dataframe thead th {\n",
       "        text-align: right;\n",
       "    }\n",
       "</style>\n",
       "<table border=\"1\" class=\"dataframe\">\n",
       "  <thead>\n",
       "    <tr style=\"text-align: right;\">\n",
       "      <th></th>\n",
       "      <th>Name</th>\n",
       "      <th>Location</th>\n",
       "      <th>Year</th>\n",
       "      <th>Kilometers_Driven</th>\n",
       "      <th>Fuel_Type</th>\n",
       "      <th>Transmission</th>\n",
       "      <th>Owner_Type</th>\n",
       "      <th>Mileage</th>\n",
       "      <th>Engine</th>\n",
       "      <th>Power</th>\n",
       "      <th>Seats</th>\n",
       "      <th>New_Price</th>\n",
       "      <th>Price</th>\n",
       "      <th>Mileage_Unit</th>\n",
       "    </tr>\n",
       "  </thead>\n",
       "  <tbody>\n",
       "    <tr>\n",
       "      <th>6463</th>\n",
       "      <td>BMW 3 Series 320d Sport</td>\n",
       "      <td>Ahmedabad</td>\n",
       "      <td>2016</td>\n",
       "      <td>40000</td>\n",
       "      <td>Diesel</td>\n",
       "      <td>Automatic</td>\n",
       "      <td>First</td>\n",
       "      <td>22.69</td>\n",
       "      <td>1995.0</td>\n",
       "      <td>190.00</td>\n",
       "      <td>5.0</td>\n",
       "      <td>54.430</td>\n",
       "      <td>NaN</td>\n",
       "      <td>kmpl</td>\n",
       "    </tr>\n",
       "    <tr>\n",
       "      <th>3294</th>\n",
       "      <td>Chevrolet Beat LT</td>\n",
       "      <td>Pune</td>\n",
       "      <td>2011</td>\n",
       "      <td>48000</td>\n",
       "      <td>Petrol</td>\n",
       "      <td>Manual</td>\n",
       "      <td>Second</td>\n",
       "      <td>18.60</td>\n",
       "      <td>1199.0</td>\n",
       "      <td>79.40</td>\n",
       "      <td>5.0</td>\n",
       "      <td>11.300</td>\n",
       "      <td>1.8</td>\n",
       "      <td>kmpl</td>\n",
       "    </tr>\n",
       "    <tr>\n",
       "      <th>5901</th>\n",
       "      <td>Ford Ecosport 1.5 DV5 MT Titanium Optional</td>\n",
       "      <td>Mumbai</td>\n",
       "      <td>2014</td>\n",
       "      <td>59000</td>\n",
       "      <td>Diesel</td>\n",
       "      <td>Manual</td>\n",
       "      <td>First</td>\n",
       "      <td>22.70</td>\n",
       "      <td>1498.0</td>\n",
       "      <td>89.84</td>\n",
       "      <td>5.0</td>\n",
       "      <td>11.685</td>\n",
       "      <td>6.5</td>\n",
       "      <td>kmpl</td>\n",
       "    </tr>\n",
       "    <tr>\n",
       "      <th>6257</th>\n",
       "      <td>Maruti Swift Dzire VDi</td>\n",
       "      <td>Jaipur</td>\n",
       "      <td>2011</td>\n",
       "      <td>90198</td>\n",
       "      <td>Diesel</td>\n",
       "      <td>Manual</td>\n",
       "      <td>Second</td>\n",
       "      <td>19.30</td>\n",
       "      <td>1248.0</td>\n",
       "      <td>73.90</td>\n",
       "      <td>5.0</td>\n",
       "      <td>7.880</td>\n",
       "      <td>NaN</td>\n",
       "      <td>kmpl</td>\n",
       "    </tr>\n",
       "    <tr>\n",
       "      <th>949</th>\n",
       "      <td>Hyundai Verna CRDi SX</td>\n",
       "      <td>Hyderabad</td>\n",
       "      <td>2013</td>\n",
       "      <td>82966</td>\n",
       "      <td>Diesel</td>\n",
       "      <td>Manual</td>\n",
       "      <td>First</td>\n",
       "      <td>16.80</td>\n",
       "      <td>1493.0</td>\n",
       "      <td>110.00</td>\n",
       "      <td>5.0</td>\n",
       "      <td>14.255</td>\n",
       "      <td>7.2</td>\n",
       "      <td>kmpl</td>\n",
       "    </tr>\n",
       "  </tbody>\n",
       "</table>\n",
       "</div>"
      ],
      "text/plain": [
       "                                            Name   Location  Year  \\\n",
       "6463                     BMW 3 Series 320d Sport  Ahmedabad  2016   \n",
       "3294                           Chevrolet Beat LT       Pune  2011   \n",
       "5901  Ford Ecosport 1.5 DV5 MT Titanium Optional     Mumbai  2014   \n",
       "6257                      Maruti Swift Dzire VDi     Jaipur  2011   \n",
       "949                        Hyundai Verna CRDi SX  Hyderabad  2013   \n",
       "\n",
       "      Kilometers_Driven Fuel_Type Transmission Owner_Type  Mileage  Engine  \\\n",
       "6463              40000    Diesel    Automatic      First    22.69  1995.0   \n",
       "3294              48000    Petrol       Manual     Second    18.60  1199.0   \n",
       "5901              59000    Diesel       Manual      First    22.70  1498.0   \n",
       "6257              90198    Diesel       Manual     Second    19.30  1248.0   \n",
       "949               82966    Diesel       Manual      First    16.80  1493.0   \n",
       "\n",
       "       Power  Seats  New_Price  Price Mileage_Unit  \n",
       "6463  190.00    5.0     54.430    NaN         kmpl  \n",
       "3294   79.40    5.0     11.300    1.8         kmpl  \n",
       "5901   89.84    5.0     11.685    6.5         kmpl  \n",
       "6257   73.90    5.0      7.880    NaN         kmpl  \n",
       "949   110.00    5.0     14.255    7.2         kmpl  "
      ]
     },
     "execution_count": 839,
     "metadata": {},
     "output_type": "execute_result"
    }
   ],
   "source": [
    "# Quality check\n",
    "df.sample(5)"
   ]
  },
  {
   "cell_type": "markdown",
   "id": "5c7e3755",
   "metadata": {},
   "source": [
    "**Summary information on the dataset**"
   ]
  },
  {
   "cell_type": "code",
   "execution_count": 840,
   "id": "f6ff2ec5",
   "metadata": {
    "scrolled": false
   },
   "outputs": [
    {
     "name": "stdout",
     "output_type": "stream",
     "text": [
      "<class 'pandas.core.frame.DataFrame'>\n",
      "RangeIndex: 7253 entries, 0 to 7252\n",
      "Data columns (total 14 columns):\n",
      " #   Column             Non-Null Count  Dtype  \n",
      "---  ------             --------------  -----  \n",
      " 0   Name               7253 non-null   object \n",
      " 1   Location           7253 non-null   object \n",
      " 2   Year               7253 non-null   int64  \n",
      " 3   Kilometers_Driven  7253 non-null   int64  \n",
      " 4   Fuel_Type          7253 non-null   object \n",
      " 5   Transmission       7253 non-null   object \n",
      " 6   Owner_Type         7253 non-null   object \n",
      " 7   Mileage            7251 non-null   float64\n",
      " 8   Engine             7207 non-null   float64\n",
      " 9   Power              7078 non-null   float64\n",
      " 10  Seats              7200 non-null   float64\n",
      " 11  New_Price          7253 non-null   float64\n",
      " 12  Price              6019 non-null   float64\n",
      " 13  Mileage_Unit       7251 non-null   object \n",
      "dtypes: float64(6), int64(2), object(6)\n",
      "memory usage: 793.4+ KB\n"
     ]
    }
   ],
   "source": [
    "# checking column datatypes and number of non-null values\n",
    "df.info()"
   ]
  },
  {
   "cell_type": "markdown",
   "id": "a1d687ca",
   "metadata": {},
   "source": [
    "- The \"Name\", \"Location\", \"Fuel_Type\", \"Transmission\", \"Owner_Type\" and \"Mileage_Unit\" columns are objects. All other columns are numerical."
   ]
  },
  {
   "cell_type": "markdown",
   "id": "298af6c0",
   "metadata": {},
   "source": [
    "**Duplicated values**"
   ]
  },
  {
   "cell_type": "code",
   "execution_count": 841,
   "id": "ea2193a1",
   "metadata": {},
   "outputs": [
    {
     "data": {
      "text/plain": [
       "1"
      ]
     },
     "execution_count": 841,
     "metadata": {},
     "output_type": "execute_result"
    }
   ],
   "source": [
    "# checking for duplicated values\n",
    "df.duplicated().sum()"
   ]
  },
  {
   "cell_type": "markdown",
   "id": "6acac8f3",
   "metadata": {},
   "source": [
    "There is one duplicated row in the dataset"
   ]
  },
  {
   "cell_type": "code",
   "execution_count": 842,
   "id": "97164aee",
   "metadata": {},
   "outputs": [
    {
     "data": {
      "text/html": [
       "<div>\n",
       "<style scoped>\n",
       "    .dataframe tbody tr th:only-of-type {\n",
       "        vertical-align: middle;\n",
       "    }\n",
       "\n",
       "    .dataframe tbody tr th {\n",
       "        vertical-align: top;\n",
       "    }\n",
       "\n",
       "    .dataframe thead th {\n",
       "        text-align: right;\n",
       "    }\n",
       "</style>\n",
       "<table border=\"1\" class=\"dataframe\">\n",
       "  <thead>\n",
       "    <tr style=\"text-align: right;\">\n",
       "      <th></th>\n",
       "      <th>Name</th>\n",
       "      <th>Location</th>\n",
       "      <th>Year</th>\n",
       "      <th>Kilometers_Driven</th>\n",
       "      <th>Fuel_Type</th>\n",
       "      <th>Transmission</th>\n",
       "      <th>Owner_Type</th>\n",
       "      <th>Mileage</th>\n",
       "      <th>Engine</th>\n",
       "      <th>Power</th>\n",
       "      <th>Seats</th>\n",
       "      <th>New_Price</th>\n",
       "      <th>Price</th>\n",
       "      <th>Mileage_Unit</th>\n",
       "    </tr>\n",
       "  </thead>\n",
       "  <tbody>\n",
       "    <tr>\n",
       "      <th>6498</th>\n",
       "      <td>Honda City 1.5 E MT</td>\n",
       "      <td>Mumbai</td>\n",
       "      <td>2010</td>\n",
       "      <td>52000</td>\n",
       "      <td>Petrol</td>\n",
       "      <td>Manual</td>\n",
       "      <td>First</td>\n",
       "      <td>17.0</td>\n",
       "      <td>1497.0</td>\n",
       "      <td>118.0</td>\n",
       "      <td>5.0</td>\n",
       "      <td>13.58</td>\n",
       "      <td>NaN</td>\n",
       "      <td>kmpl</td>\n",
       "    </tr>\n",
       "    <tr>\n",
       "      <th>6582</th>\n",
       "      <td>Honda City 1.5 E MT</td>\n",
       "      <td>Mumbai</td>\n",
       "      <td>2010</td>\n",
       "      <td>52000</td>\n",
       "      <td>Petrol</td>\n",
       "      <td>Manual</td>\n",
       "      <td>First</td>\n",
       "      <td>17.0</td>\n",
       "      <td>1497.0</td>\n",
       "      <td>118.0</td>\n",
       "      <td>5.0</td>\n",
       "      <td>13.58</td>\n",
       "      <td>NaN</td>\n",
       "      <td>kmpl</td>\n",
       "    </tr>\n",
       "  </tbody>\n",
       "</table>\n",
       "</div>"
      ],
      "text/plain": [
       "                     Name Location  Year  Kilometers_Driven Fuel_Type  \\\n",
       "6498  Honda City 1.5 E MT   Mumbai  2010              52000    Petrol   \n",
       "6582  Honda City 1.5 E MT   Mumbai  2010              52000    Petrol   \n",
       "\n",
       "     Transmission Owner_Type  Mileage  Engine  Power  Seats  New_Price  Price  \\\n",
       "6498       Manual      First     17.0  1497.0  118.0    5.0      13.58    NaN   \n",
       "6582       Manual      First     17.0  1497.0  118.0    5.0      13.58    NaN   \n",
       "\n",
       "     Mileage_Unit  \n",
       "6498         kmpl  \n",
       "6582         kmpl  "
      ]
     },
     "execution_count": 842,
     "metadata": {},
     "output_type": "execute_result"
    }
   ],
   "source": [
    "# locating the duplicated rows\n",
    "df.loc[df.duplicated(keep=False), :]"
   ]
  },
  {
   "cell_type": "code",
   "execution_count": 843,
   "id": "c51457c5",
   "metadata": {},
   "outputs": [],
   "source": [
    "# drop the duplicates\n",
    "df.drop_duplicates(inplace=True)\n",
    "\n",
    "# reset the index\n",
    "df.reset_index(drop=True, inplace=True)"
   ]
  },
  {
   "cell_type": "code",
   "execution_count": 844,
   "id": "3a2a70f5",
   "metadata": {},
   "outputs": [
    {
     "data": {
      "text/plain": [
       "0"
      ]
     },
     "execution_count": 844,
     "metadata": {},
     "output_type": "execute_result"
    }
   ],
   "source": [
    "# Quality check\n",
    "df.duplicated().sum()"
   ]
  },
  {
   "cell_type": "markdown",
   "id": "3f076c91",
   "metadata": {},
   "source": [
    "**Empty values**"
   ]
  },
  {
   "cell_type": "code",
   "execution_count": 845,
   "id": "4d8faac6",
   "metadata": {},
   "outputs": [],
   "source": [
    "# Checking for empty values in the dataset\n",
    "for i in df.columns: #looping through each column\n",
    "    for row, value in enumerate(df[i]): #looping through each row in the columns \n",
    "        if value == ' ': #looking for empty values\n",
    "            print(f'Empty value found on row: {row}') #printing a message if an empty value is found"
   ]
  },
  {
   "cell_type": "markdown",
   "id": "428abc20",
   "metadata": {},
   "source": [
    "No empty values were found in the dataset"
   ]
  },
  {
   "cell_type": "markdown",
   "id": "b251ec58",
   "metadata": {},
   "source": [
    "**Separating categorical and numerical variables**"
   ]
  },
  {
   "cell_type": "code",
   "execution_count": 846,
   "id": "f925a24c",
   "metadata": {
    "scrolled": false
   },
   "outputs": [
    {
     "data": {
      "text/plain": [
       "['Name', 'Location', 'Fuel_Type', 'Transmission', 'Owner_Type', 'Mileage_Unit']"
      ]
     },
     "execution_count": 846,
     "metadata": {},
     "output_type": "execute_result"
    }
   ],
   "source": [
    "# separating the object variables from the dataset\n",
    "cat_cols = df.select_dtypes(include='object').columns.to_list()\n",
    "cat_cols"
   ]
  },
  {
   "cell_type": "code",
   "execution_count": 847,
   "id": "1f0c834b",
   "metadata": {},
   "outputs": [
    {
     "name": "stdout",
     "output_type": "stream",
     "text": [
      "Mahindra XUV500 W8 2WD                  55\n",
      "Maruti Swift VDI                        49\n",
      "Maruti Swift Dzire VDI                  42\n",
      "Honda City 1.5 S MT                     39\n",
      "Maruti Swift VDI BSIV                   37\n",
      "                                        ..\n",
      "Chevrolet Beat LT Option                 1\n",
      "Skoda Rapid 1.6 MPI AT Elegance Plus     1\n",
      "Ford EcoSport 1.5 TDCi Ambiente          1\n",
      "Hyundai i10 Magna 1.1 iTech SE           1\n",
      "Hyundai Elite i20 Magna Plus             1\n",
      "Name: Name, Length: 2041, dtype: int64\n",
      "__________________________________________________\n",
      "Mumbai        948\n",
      "Hyderabad     876\n",
      "Coimbatore    772\n",
      "Kochi         772\n",
      "Pune          765\n",
      "Delhi         660\n",
      "Kolkata       654\n",
      "Chennai       591\n",
      "Jaipur        499\n",
      "Bangalore     440\n",
      "Ahmedabad     275\n",
      "Name: Location, dtype: int64\n",
      "__________________________________________________\n",
      "Diesel      3852\n",
      "Petrol      3324\n",
      "CNG           62\n",
      "LPG           12\n",
      "Electric       2\n",
      "Name: Fuel_Type, dtype: int64\n",
      "__________________________________________________\n",
      "Manual       5203\n",
      "Automatic    2049\n",
      "Name: Transmission, dtype: int64\n",
      "__________________________________________________\n",
      "First             5951\n",
      "Second            1152\n",
      "Third              137\n",
      "Fourth & Above      12\n",
      "Name: Owner_Type, dtype: int64\n",
      "__________________________________________________\n",
      "kmpl     7176\n",
      "km/kg      74\n",
      "Name: Mileage_Unit, dtype: int64\n",
      "__________________________________________________\n"
     ]
    }
   ],
   "source": [
    "# print out all the categories and frequency for each categorical variables\n",
    "for col in cat_cols:\n",
    "    print(df[col].value_counts())\n",
    "    print('_' * 50)"
   ]
  },
  {
   "cell_type": "markdown",
   "id": "dd3902dc",
   "metadata": {},
   "source": [
    "**Observations:**\n",
    "- The most popular car brand is Mahindra XUV500 W8 2WD\n",
    "- Location has 11 categories and the mode is Mumbai\n",
    "- Fuel Type has 5 categories and the mode is Diesel\n",
    "- Transmission has 2 categories and the mode is Manual\n",
    "- Owner type has 4 categories and the mode is First\n",
    "- Mileage_Unit has 2 categories and the mode is kmpl"
   ]
  },
  {
   "cell_type": "code",
   "execution_count": 848,
   "id": "425c9dda",
   "metadata": {},
   "outputs": [
    {
     "data": {
      "text/plain": [
       "['Year',\n",
       " 'Kilometers_Driven',\n",
       " 'Mileage',\n",
       " 'Engine',\n",
       " 'Power',\n",
       " 'Seats',\n",
       " 'New_Price',\n",
       " 'Price']"
      ]
     },
     "execution_count": 848,
     "metadata": {},
     "output_type": "execute_result"
    }
   ],
   "source": [
    "# separating the numerical variables from the dataset\n",
    "num_cols = df.select_dtypes(include='number').columns.to_list()\n",
    "num_cols"
   ]
  },
  {
   "cell_type": "markdown",
   "id": "32a7310f",
   "metadata": {},
   "source": [
    "**Statistical Overview of the data**"
   ]
  },
  {
   "cell_type": "code",
   "execution_count": 849,
   "id": "c84bcd57",
   "metadata": {},
   "outputs": [
    {
     "data": {
      "text/html": [
       "<div>\n",
       "<style scoped>\n",
       "    .dataframe tbody tr th:only-of-type {\n",
       "        vertical-align: middle;\n",
       "    }\n",
       "\n",
       "    .dataframe tbody tr th {\n",
       "        vertical-align: top;\n",
       "    }\n",
       "\n",
       "    .dataframe thead th {\n",
       "        text-align: right;\n",
       "    }\n",
       "</style>\n",
       "<table border=\"1\" class=\"dataframe\">\n",
       "  <thead>\n",
       "    <tr style=\"text-align: right;\">\n",
       "      <th></th>\n",
       "      <th>count</th>\n",
       "      <th>mean</th>\n",
       "      <th>std</th>\n",
       "      <th>min</th>\n",
       "      <th>25%</th>\n",
       "      <th>50%</th>\n",
       "      <th>75%</th>\n",
       "      <th>max</th>\n",
       "    </tr>\n",
       "  </thead>\n",
       "  <tbody>\n",
       "    <tr>\n",
       "      <th>Year</th>\n",
       "      <td>7252.0</td>\n",
       "      <td>2013.365830</td>\n",
       "      <td>3.254405</td>\n",
       "      <td>1996.00</td>\n",
       "      <td>2011.00</td>\n",
       "      <td>2014.00</td>\n",
       "      <td>2016.0000</td>\n",
       "      <td>2019.00</td>\n",
       "    </tr>\n",
       "    <tr>\n",
       "      <th>Kilometers_Driven</th>\n",
       "      <td>7252.0</td>\n",
       "      <td>58699.986900</td>\n",
       "      <td>84433.505524</td>\n",
       "      <td>171.00</td>\n",
       "      <td>34000.00</td>\n",
       "      <td>53429.00</td>\n",
       "      <td>73000.0000</td>\n",
       "      <td>6500000.00</td>\n",
       "    </tr>\n",
       "    <tr>\n",
       "      <th>Mileage</th>\n",
       "      <td>7250.0</td>\n",
       "      <td>18.141738</td>\n",
       "      <td>4.562492</td>\n",
       "      <td>0.00</td>\n",
       "      <td>15.17</td>\n",
       "      <td>18.16</td>\n",
       "      <td>21.1000</td>\n",
       "      <td>33.54</td>\n",
       "    </tr>\n",
       "    <tr>\n",
       "      <th>Engine</th>\n",
       "      <td>7206.0</td>\n",
       "      <td>1616.590064</td>\n",
       "      <td>595.324779</td>\n",
       "      <td>72.00</td>\n",
       "      <td>1198.00</td>\n",
       "      <td>1493.00</td>\n",
       "      <td>1968.0000</td>\n",
       "      <td>5998.00</td>\n",
       "    </tr>\n",
       "    <tr>\n",
       "      <th>Power</th>\n",
       "      <td>7077.0</td>\n",
       "      <td>112.764474</td>\n",
       "      <td>53.497297</td>\n",
       "      <td>34.20</td>\n",
       "      <td>75.00</td>\n",
       "      <td>94.00</td>\n",
       "      <td>138.1000</td>\n",
       "      <td>616.00</td>\n",
       "    </tr>\n",
       "    <tr>\n",
       "      <th>Seats</th>\n",
       "      <td>7199.0</td>\n",
       "      <td>5.279761</td>\n",
       "      <td>0.811709</td>\n",
       "      <td>0.00</td>\n",
       "      <td>5.00</td>\n",
       "      <td>5.00</td>\n",
       "      <td>5.0000</td>\n",
       "      <td>10.00</td>\n",
       "    </tr>\n",
       "    <tr>\n",
       "      <th>New_Price</th>\n",
       "      <td>7252.0</td>\n",
       "      <td>21.308387</td>\n",
       "      <td>24.257816</td>\n",
       "      <td>3.91</td>\n",
       "      <td>7.88</td>\n",
       "      <td>11.30</td>\n",
       "      <td>21.6975</td>\n",
       "      <td>375.00</td>\n",
       "    </tr>\n",
       "    <tr>\n",
       "      <th>Price</th>\n",
       "      <td>6019.0</td>\n",
       "      <td>9.479468</td>\n",
       "      <td>11.187917</td>\n",
       "      <td>0.44</td>\n",
       "      <td>3.50</td>\n",
       "      <td>5.64</td>\n",
       "      <td>9.9500</td>\n",
       "      <td>160.00</td>\n",
       "    </tr>\n",
       "  </tbody>\n",
       "</table>\n",
       "</div>"
      ],
      "text/plain": [
       "                    count          mean           std      min       25%  \\\n",
       "Year               7252.0   2013.365830      3.254405  1996.00   2011.00   \n",
       "Kilometers_Driven  7252.0  58699.986900  84433.505524   171.00  34000.00   \n",
       "Mileage            7250.0     18.141738      4.562492     0.00     15.17   \n",
       "Engine             7206.0   1616.590064    595.324779    72.00   1198.00   \n",
       "Power              7077.0    112.764474     53.497297    34.20     75.00   \n",
       "Seats              7199.0      5.279761      0.811709     0.00      5.00   \n",
       "New_Price          7252.0     21.308387     24.257816     3.91      7.88   \n",
       "Price              6019.0      9.479468     11.187917     0.44      3.50   \n",
       "\n",
       "                        50%         75%         max  \n",
       "Year                2014.00   2016.0000     2019.00  \n",
       "Kilometers_Driven  53429.00  73000.0000  6500000.00  \n",
       "Mileage               18.16     21.1000       33.54  \n",
       "Engine              1493.00   1968.0000     5998.00  \n",
       "Power                 94.00    138.1000      616.00  \n",
       "Seats                  5.00      5.0000       10.00  \n",
       "New_Price             11.30     21.6975      375.00  \n",
       "Price                  5.64      9.9500      160.00  "
      ]
     },
     "execution_count": 849,
     "metadata": {},
     "output_type": "execute_result"
    }
   ],
   "source": [
    "# Key Statistical Features\n",
    "df.describe().T"
   ]
  },
  {
   "cell_type": "markdown",
   "id": "5bebd24f",
   "metadata": {},
   "source": [
    "**Observations:**\n",
    "- The mean kilometers driven is 58,699, the max is 6,500,000 which seems very high and unusual\n",
    "- The mileage has a min 0f 0.00 which is unusual, same as the seats. I would be converting these values to null\n",
    "- Most cars have 5 seats\n",
    "- The average new price value is 21.3, while that of the price is 9.47 \n",
    "- The average engine displacement volume is 1616.59\n",
    "- The average power is 112.76"
   ]
  },
  {
   "cell_type": "markdown",
   "id": "ac66b4be",
   "metadata": {},
   "source": [
    "**Converting zero values in the mileage and seats columns to null**"
   ]
  },
  {
   "cell_type": "code",
   "execution_count": 850,
   "id": "c7265987",
   "metadata": {},
   "outputs": [
    {
     "data": {
      "text/plain": [
       "Name                 81\n",
       "Location             81\n",
       "Year                 81\n",
       "Kilometers_Driven    81\n",
       "Fuel_Type            81\n",
       "Transmission         81\n",
       "Owner_Type           81\n",
       "Mileage              81\n",
       "Engine               69\n",
       "Power                36\n",
       "Seats                67\n",
       "New_Price            81\n",
       "Price                68\n",
       "Mileage_Unit         81\n",
       "dtype: int64"
      ]
     },
     "execution_count": 850,
     "metadata": {},
     "output_type": "execute_result"
    }
   ],
   "source": [
    "# Getting the number of values in the mileage column that are equal to zero \n",
    "df[df['Mileage'] == 0].count()"
   ]
  },
  {
   "cell_type": "markdown",
   "id": "175eb118",
   "metadata": {},
   "source": [
    "- There are 81 mileage values equal to zero"
   ]
  },
  {
   "cell_type": "code",
   "execution_count": 851,
   "id": "90a98a6a",
   "metadata": {},
   "outputs": [
    {
     "data": {
      "text/plain": [
       "Name                 1\n",
       "Location             1\n",
       "Year                 1\n",
       "Kilometers_Driven    1\n",
       "Fuel_Type            1\n",
       "Transmission         1\n",
       "Owner_Type           1\n",
       "Mileage              1\n",
       "Engine               1\n",
       "Power                0\n",
       "Seats                1\n",
       "New_Price            1\n",
       "Price                1\n",
       "Mileage_Unit         1\n",
       "dtype: int64"
      ]
     },
     "execution_count": 851,
     "metadata": {},
     "output_type": "execute_result"
    }
   ],
   "source": [
    "# Getting the number of values in the seats column that are equal to zero \n",
    "df[df['Seats'] == 0].count()"
   ]
  },
  {
   "cell_type": "markdown",
   "id": "b0aa6ba4",
   "metadata": {},
   "source": [
    "- There is only one seat value equal to zero"
   ]
  },
  {
   "cell_type": "code",
   "execution_count": 852,
   "id": "48b89247",
   "metadata": {},
   "outputs": [],
   "source": [
    "# Converting zero values in the mileage column to null\n",
    "df.loc[df['Mileage'] == 0.0, 'Mileage'] = np.nan\n",
    "\n",
    "# Converting zero values in the seats column to null\n",
    "df.loc[df['Seats'] == 0.0, 'Seats'] = np.nan"
   ]
  },
  {
   "cell_type": "code",
   "execution_count": 853,
   "id": "8fa90460",
   "metadata": {},
   "outputs": [
    {
     "data": {
      "text/html": [
       "<div>\n",
       "<style scoped>\n",
       "    .dataframe tbody tr th:only-of-type {\n",
       "        vertical-align: middle;\n",
       "    }\n",
       "\n",
       "    .dataframe tbody tr th {\n",
       "        vertical-align: top;\n",
       "    }\n",
       "\n",
       "    .dataframe thead th {\n",
       "        text-align: right;\n",
       "    }\n",
       "</style>\n",
       "<table border=\"1\" class=\"dataframe\">\n",
       "  <thead>\n",
       "    <tr style=\"text-align: right;\">\n",
       "      <th></th>\n",
       "      <th>Name</th>\n",
       "      <th>Location</th>\n",
       "      <th>Year</th>\n",
       "      <th>Kilometers_Driven</th>\n",
       "      <th>Fuel_Type</th>\n",
       "      <th>Transmission</th>\n",
       "      <th>Owner_Type</th>\n",
       "      <th>Mileage</th>\n",
       "      <th>Engine</th>\n",
       "      <th>Power</th>\n",
       "      <th>Seats</th>\n",
       "      <th>New_Price</th>\n",
       "      <th>Price</th>\n",
       "      <th>Mileage_Unit</th>\n",
       "    </tr>\n",
       "  </thead>\n",
       "  <tbody>\n",
       "  </tbody>\n",
       "</table>\n",
       "</div>"
      ],
      "text/plain": [
       "Empty DataFrame\n",
       "Columns: [Name, Location, Year, Kilometers_Driven, Fuel_Type, Transmission, Owner_Type, Mileage, Engine, Power, Seats, New_Price, Price, Mileage_Unit]\n",
       "Index: []"
      ]
     },
     "execution_count": 853,
     "metadata": {},
     "output_type": "execute_result"
    }
   ],
   "source": [
    "# Quality check\n",
    "df[df['Mileage'] == 0.0]"
   ]
  },
  {
   "cell_type": "code",
   "execution_count": 854,
   "id": "05367a17",
   "metadata": {},
   "outputs": [
    {
     "data": {
      "text/html": [
       "<div>\n",
       "<style scoped>\n",
       "    .dataframe tbody tr th:only-of-type {\n",
       "        vertical-align: middle;\n",
       "    }\n",
       "\n",
       "    .dataframe tbody tr th {\n",
       "        vertical-align: top;\n",
       "    }\n",
       "\n",
       "    .dataframe thead th {\n",
       "        text-align: right;\n",
       "    }\n",
       "</style>\n",
       "<table border=\"1\" class=\"dataframe\">\n",
       "  <thead>\n",
       "    <tr style=\"text-align: right;\">\n",
       "      <th></th>\n",
       "      <th>Name</th>\n",
       "      <th>Location</th>\n",
       "      <th>Year</th>\n",
       "      <th>Kilometers_Driven</th>\n",
       "      <th>Fuel_Type</th>\n",
       "      <th>Transmission</th>\n",
       "      <th>Owner_Type</th>\n",
       "      <th>Mileage</th>\n",
       "      <th>Engine</th>\n",
       "      <th>Power</th>\n",
       "      <th>Seats</th>\n",
       "      <th>New_Price</th>\n",
       "      <th>Price</th>\n",
       "      <th>Mileage_Unit</th>\n",
       "    </tr>\n",
       "  </thead>\n",
       "  <tbody>\n",
       "  </tbody>\n",
       "</table>\n",
       "</div>"
      ],
      "text/plain": [
       "Empty DataFrame\n",
       "Columns: [Name, Location, Year, Kilometers_Driven, Fuel_Type, Transmission, Owner_Type, Mileage, Engine, Power, Seats, New_Price, Price, Mileage_Unit]\n",
       "Index: []"
      ]
     },
     "execution_count": 854,
     "metadata": {},
     "output_type": "execute_result"
    }
   ],
   "source": [
    "# Quality check\n",
    "df[df['Seats'] == 0.0]"
   ]
  },
  {
   "cell_type": "markdown",
   "id": "e8ce42a7",
   "metadata": {},
   "source": [
    "**Null values**"
   ]
  },
  {
   "cell_type": "code",
   "execution_count": 855,
   "id": "be90b886",
   "metadata": {},
   "outputs": [
    {
     "data": {
      "text/plain": [
       "Name                    0\n",
       "Location                0\n",
       "Year                    0\n",
       "Kilometers_Driven       0\n",
       "Fuel_Type               0\n",
       "Transmission            0\n",
       "Owner_Type              0\n",
       "Mileage                83\n",
       "Engine                 46\n",
       "Power                 175\n",
       "Seats                  54\n",
       "New_Price               0\n",
       "Price                1233\n",
       "Mileage_Unit            2\n",
       "dtype: int64"
      ]
     },
     "execution_count": 855,
     "metadata": {},
     "output_type": "execute_result"
    }
   ],
   "source": [
    "# Checking for null values\n",
    "df.isnull().sum()"
   ]
  },
  {
   "cell_type": "markdown",
   "id": "06fdea73",
   "metadata": {},
   "source": [
    "- There are null values present in the \"Mileage\", \"Engine\", \"Power\", \"Seats\" and \"Mileage_Unit\" columns as seen above. \n",
    "- The target variable, \"Price\", also has missing values.  "
   ]
  },
  {
   "cell_type": "markdown",
   "id": "72ae1b00",
   "metadata": {},
   "source": [
    "**Treating Missing Values in Price**"
   ]
  },
  {
   "cell_type": "markdown",
   "id": "e8d4932d",
   "metadata": {},
   "source": [
    "This is the target (dependent) variable. To avoid bias and errors, I would be dropping all null values in the \"Price\" column."
   ]
  },
  {
   "cell_type": "code",
   "execution_count": 856,
   "id": "4d3a5d77",
   "metadata": {},
   "outputs": [],
   "source": [
    "# dropping the null values found in the \"Price\" column\n",
    "df.dropna(subset=['Price'], inplace=True)"
   ]
  },
  {
   "cell_type": "code",
   "execution_count": 857,
   "id": "32cfad77",
   "metadata": {},
   "outputs": [
    {
     "data": {
      "text/plain": [
       "Name                   0\n",
       "Location               0\n",
       "Year                   0\n",
       "Kilometers_Driven      0\n",
       "Fuel_Type              0\n",
       "Transmission           0\n",
       "Owner_Type             0\n",
       "Mileage               70\n",
       "Engine                36\n",
       "Power                143\n",
       "Seats                 43\n",
       "New_Price              0\n",
       "Price                  0\n",
       "Mileage_Unit           2\n",
       "dtype: int64"
      ]
     },
     "execution_count": 857,
     "metadata": {},
     "output_type": "execute_result"
    }
   ],
   "source": [
    "# Quality check\n",
    "df.isnull().sum()"
   ]
  },
  {
   "cell_type": "markdown",
   "id": "45e744d0",
   "metadata": {},
   "source": [
    "**Creating additional columns to aid cleaning**"
   ]
  },
  {
   "cell_type": "code",
   "execution_count": 858,
   "id": "6700e350",
   "metadata": {},
   "outputs": [],
   "source": [
    "# creating the brand name column\n",
    "df['Brand_Name'] = df['Name'].apply(split_value, needed_index=0)"
   ]
  },
  {
   "cell_type": "code",
   "execution_count": 859,
   "id": "eb090dc9",
   "metadata": {},
   "outputs": [
    {
     "data": {
      "text/plain": [
       "Maruti           1211\n",
       "Hyundai          1107\n",
       "Honda             608\n",
       "Toyota            411\n",
       "Mercedes-Benz     318\n",
       "Volkswagen        315\n",
       "Ford              300\n",
       "Mahindra          272\n",
       "BMW               267\n",
       "Audi              236\n",
       "Tata              186\n",
       "Skoda             173\n",
       "Renault           145\n",
       "Chevrolet         121\n",
       "Nissan             91\n",
       "Land               60\n",
       "Jaguar             40\n",
       "Fiat               28\n",
       "Mitsubishi         27\n",
       "Mini               26\n",
       "Volvo              21\n",
       "Porsche            18\n",
       "Jeep               15\n",
       "Datsun             13\n",
       "Force               3\n",
       "ISUZU               2\n",
       "Smart               1\n",
       "Ambassador          1\n",
       "Isuzu               1\n",
       "Bentley             1\n",
       "Lamborghini         1\n",
       "Name: Brand_Name, dtype: int64"
      ]
     },
     "execution_count": 859,
     "metadata": {},
     "output_type": "execute_result"
    }
   ],
   "source": [
    "# Quality check\n",
    "df['Brand_Name'].value_counts()"
   ]
  },
  {
   "cell_type": "markdown",
   "id": "1706fc85",
   "metadata": {},
   "source": [
    "**Observations:**\n",
    "- The most common brand is Maruti\n",
    "- Land represents Land Rover\n",
    "- Mini represents Mini Cooper\n",
    "- ISUZU and Isuzu are the same brand name. I will standardize this"
   ]
  },
  {
   "cell_type": "code",
   "execution_count": 860,
   "id": "bbf93dcf",
   "metadata": {},
   "outputs": [],
   "source": [
    "# standardizing the car brands\n",
    "brand_val = {'Land':'Land Rover', 'Mini':'Mini Cooper', 'ISUZU':'Isuzu'}\n",
    "df['Brand_Name'].replace(brand_val, inplace=True)"
   ]
  },
  {
   "cell_type": "code",
   "execution_count": 861,
   "id": "ef836df5",
   "metadata": {},
   "outputs": [
    {
     "data": {
      "text/plain": [
       "Maruti           1211\n",
       "Hyundai          1107\n",
       "Honda             608\n",
       "Toyota            411\n",
       "Mercedes-Benz     318\n",
       "Volkswagen        315\n",
       "Ford              300\n",
       "Mahindra          272\n",
       "BMW               267\n",
       "Audi              236\n",
       "Tata              186\n",
       "Skoda             173\n",
       "Renault           145\n",
       "Chevrolet         121\n",
       "Nissan             91\n",
       "Land Rover         60\n",
       "Jaguar             40\n",
       "Fiat               28\n",
       "Mitsubishi         27\n",
       "Mini Cooper        26\n",
       "Volvo              21\n",
       "Porsche            18\n",
       "Jeep               15\n",
       "Datsun             13\n",
       "Isuzu               3\n",
       "Force               3\n",
       "Smart               1\n",
       "Ambassador          1\n",
       "Bentley             1\n",
       "Lamborghini         1\n",
       "Name: Brand_Name, dtype: int64"
      ]
     },
     "execution_count": 861,
     "metadata": {},
     "output_type": "execute_result"
    }
   ],
   "source": [
    "# Quality check\n",
    "df['Brand_Name'].value_counts()"
   ]
  },
  {
   "cell_type": "code",
   "execution_count": 862,
   "id": "08d91a46",
   "metadata": {},
   "outputs": [
    {
     "data": {
      "text/html": [
       "<div>\n",
       "<style scoped>\n",
       "    .dataframe tbody tr th:only-of-type {\n",
       "        vertical-align: middle;\n",
       "    }\n",
       "\n",
       "    .dataframe tbody tr th {\n",
       "        vertical-align: top;\n",
       "    }\n",
       "\n",
       "    .dataframe thead th {\n",
       "        text-align: right;\n",
       "    }\n",
       "</style>\n",
       "<table border=\"1\" class=\"dataframe\">\n",
       "  <thead>\n",
       "    <tr style=\"text-align: right;\">\n",
       "      <th></th>\n",
       "      <th>Name</th>\n",
       "      <th>Location</th>\n",
       "      <th>Year</th>\n",
       "      <th>Kilometers_Driven</th>\n",
       "      <th>Fuel_Type</th>\n",
       "      <th>Transmission</th>\n",
       "      <th>Owner_Type</th>\n",
       "      <th>Mileage</th>\n",
       "      <th>Engine</th>\n",
       "      <th>Power</th>\n",
       "      <th>Seats</th>\n",
       "      <th>New_Price</th>\n",
       "      <th>Price</th>\n",
       "      <th>Mileage_Unit</th>\n",
       "      <th>Brand_Name</th>\n",
       "    </tr>\n",
       "  </thead>\n",
       "  <tbody>\n",
       "    <tr>\n",
       "      <th>150</th>\n",
       "      <td>Audi A4 2.0 TDI 177 Bhp Premium Plus</td>\n",
       "      <td>Coimbatore</td>\n",
       "      <td>2015</td>\n",
       "      <td>48214</td>\n",
       "      <td>Diesel</td>\n",
       "      <td>Automatic</td>\n",
       "      <td>First</td>\n",
       "      <td>17.11</td>\n",
       "      <td>1968.0</td>\n",
       "      <td>174.33</td>\n",
       "      <td>5.0</td>\n",
       "      <td>53.14</td>\n",
       "      <td>23.32</td>\n",
       "      <td>kmpl</td>\n",
       "      <td>Audi</td>\n",
       "    </tr>\n",
       "    <tr>\n",
       "      <th>5332</th>\n",
       "      <td>Maruti Celerio ZXI MT</td>\n",
       "      <td>Bangalore</td>\n",
       "      <td>2015</td>\n",
       "      <td>48808</td>\n",
       "      <td>Petrol</td>\n",
       "      <td>Manual</td>\n",
       "      <td>First</td>\n",
       "      <td>23.10</td>\n",
       "      <td>998.0</td>\n",
       "      <td>67.04</td>\n",
       "      <td>5.0</td>\n",
       "      <td>6.05</td>\n",
       "      <td>4.30</td>\n",
       "      <td>kmpl</td>\n",
       "      <td>Maruti</td>\n",
       "    </tr>\n",
       "    <tr>\n",
       "      <th>5723</th>\n",
       "      <td>Mercedes-Benz B Class B180</td>\n",
       "      <td>Delhi</td>\n",
       "      <td>2013</td>\n",
       "      <td>30000</td>\n",
       "      <td>Petrol</td>\n",
       "      <td>Automatic</td>\n",
       "      <td>Second</td>\n",
       "      <td>14.80</td>\n",
       "      <td>1595.0</td>\n",
       "      <td>120.70</td>\n",
       "      <td>5.0</td>\n",
       "      <td>37.03</td>\n",
       "      <td>11.00</td>\n",
       "      <td>kmpl</td>\n",
       "      <td>Mercedes-Benz</td>\n",
       "    </tr>\n",
       "    <tr>\n",
       "      <th>1794</th>\n",
       "      <td>Maruti Dzire AMT ZDI Plus</td>\n",
       "      <td>Pune</td>\n",
       "      <td>2017</td>\n",
       "      <td>41747</td>\n",
       "      <td>Diesel</td>\n",
       "      <td>Automatic</td>\n",
       "      <td>First</td>\n",
       "      <td>28.40</td>\n",
       "      <td>1248.0</td>\n",
       "      <td>73.75</td>\n",
       "      <td>5.0</td>\n",
       "      <td>11.26</td>\n",
       "      <td>9.00</td>\n",
       "      <td>kmpl</td>\n",
       "      <td>Maruti</td>\n",
       "    </tr>\n",
       "    <tr>\n",
       "      <th>5461</th>\n",
       "      <td>Mercedes-Benz S Class 2005 2013 S 350 CDI</td>\n",
       "      <td>Hyderabad</td>\n",
       "      <td>2010</td>\n",
       "      <td>37000</td>\n",
       "      <td>Diesel</td>\n",
       "      <td>Automatic</td>\n",
       "      <td>First</td>\n",
       "      <td>13.50</td>\n",
       "      <td>2987.0</td>\n",
       "      <td>282.00</td>\n",
       "      <td>5.0</td>\n",
       "      <td>49.49</td>\n",
       "      <td>21.00</td>\n",
       "      <td>kmpl</td>\n",
       "      <td>Mercedes-Benz</td>\n",
       "    </tr>\n",
       "  </tbody>\n",
       "</table>\n",
       "</div>"
      ],
      "text/plain": [
       "                                           Name    Location  Year  \\\n",
       "150        Audi A4 2.0 TDI 177 Bhp Premium Plus  Coimbatore  2015   \n",
       "5332                      Maruti Celerio ZXI MT   Bangalore  2015   \n",
       "5723                 Mercedes-Benz B Class B180       Delhi  2013   \n",
       "1794                  Maruti Dzire AMT ZDI Plus        Pune  2017   \n",
       "5461  Mercedes-Benz S Class 2005 2013 S 350 CDI   Hyderabad  2010   \n",
       "\n",
       "      Kilometers_Driven Fuel_Type Transmission Owner_Type  Mileage  Engine  \\\n",
       "150               48214    Diesel    Automatic      First    17.11  1968.0   \n",
       "5332              48808    Petrol       Manual      First    23.10   998.0   \n",
       "5723              30000    Petrol    Automatic     Second    14.80  1595.0   \n",
       "1794              41747    Diesel    Automatic      First    28.40  1248.0   \n",
       "5461              37000    Diesel    Automatic      First    13.50  2987.0   \n",
       "\n",
       "       Power  Seats  New_Price  Price Mileage_Unit     Brand_Name  \n",
       "150   174.33    5.0      53.14  23.32         kmpl           Audi  \n",
       "5332   67.04    5.0       6.05   4.30         kmpl         Maruti  \n",
       "5723  120.70    5.0      37.03  11.00         kmpl  Mercedes-Benz  \n",
       "1794   73.75    5.0      11.26   9.00         kmpl         Maruti  \n",
       "5461  282.00    5.0      49.49  21.00         kmpl  Mercedes-Benz  "
      ]
     },
     "execution_count": 862,
     "metadata": {},
     "output_type": "execute_result"
    }
   ],
   "source": [
    "# Reloading the data frame to get an overview\n",
    "df.sample(5)"
   ]
  },
  {
   "cell_type": "markdown",
   "id": "6674849a",
   "metadata": {},
   "source": [
    "**Replacing Missing Values in the Numerical Columns**"
   ]
  },
  {
   "cell_type": "markdown",
   "id": "377e2815",
   "metadata": {},
   "source": [
    "I will be replacing the null values with the median value associated with each brand, as different brands have different specifications."
   ]
  },
  {
   "cell_type": "code",
   "execution_count": 863,
   "id": "cbd12adb",
   "metadata": {},
   "outputs": [],
   "source": [
    "# Grouping by brand name and applying the median to null values in each column\n",
    "df[num_cols] = df.groupby(['Brand_Name'])[num_cols].transform(lambda x: x.fillna(x.median()))"
   ]
  },
  {
   "cell_type": "code",
   "execution_count": 864,
   "id": "cdd6a653",
   "metadata": {},
   "outputs": [
    {
     "data": {
      "text/plain": [
       "Name                 0\n",
       "Location             0\n",
       "Year                 0\n",
       "Kilometers_Driven    0\n",
       "Fuel_Type            0\n",
       "Transmission         0\n",
       "Owner_Type           0\n",
       "Mileage              1\n",
       "Engine               0\n",
       "Power                1\n",
       "Seats                0\n",
       "New_Price            0\n",
       "Price                0\n",
       "Mileage_Unit         2\n",
       "Brand_Name           0\n",
       "dtype: int64"
      ]
     },
     "execution_count": 864,
     "metadata": {},
     "output_type": "execute_result"
    }
   ],
   "source": [
    "# Quality check\n",
    "df.isnull().sum()"
   ]
  },
  {
   "cell_type": "markdown",
   "id": "03797d8c",
   "metadata": {},
   "source": [
    "**Null values in Mileage Unit and Mileage columns for Electric cars**\n",
    "- From my observation, Mileage Unit value of a car depends on its fuel type. \n",
    "- Diesel/Petrol cars have values in kmpl, while CNG and LPG fuel types have km/kg unit\n",
    "- Electric cars have no mileage value because they do not run on fuel\n",
    "- I would be regularising this for both columns"
   ]
  },
  {
   "cell_type": "code",
   "execution_count": 865,
   "id": "5dddb44c",
   "metadata": {},
   "outputs": [
    {
     "data": {
      "text/plain": [
       "km/kg    66\n",
       "Name: Mileage_Unit, dtype: int64"
      ]
     },
     "execution_count": 865,
     "metadata": {},
     "output_type": "execute_result"
    }
   ],
   "source": [
    "# Mileage Value for Fuel Types CNG and LPG\n",
    "df.query(\"(`Fuel_Type` == 'CNG') or (`Fuel_Type` == 'LPG')\")['Mileage_Unit'].value_counts()"
   ]
  },
  {
   "cell_type": "code",
   "execution_count": 866,
   "id": "f82ed9a4",
   "metadata": {},
   "outputs": [
    {
     "data": {
      "text/plain": [
       "kmpl    5951\n",
       "Name: Mileage_Unit, dtype: int64"
      ]
     },
     "execution_count": 866,
     "metadata": {},
     "output_type": "execute_result"
    }
   ],
   "source": [
    "# Mileage Value for Fuel Types Petrol and Diesel\n",
    "df.query(\"(`Fuel_Type` == 'Petrol') or (`Fuel_Type` == 'Diesel')\")['Mileage_Unit'].value_counts()"
   ]
  },
  {
   "cell_type": "code",
   "execution_count": 867,
   "id": "1ad00cbe",
   "metadata": {},
   "outputs": [
    {
     "data": {
      "text/html": [
       "<div>\n",
       "<style scoped>\n",
       "    .dataframe tbody tr th:only-of-type {\n",
       "        vertical-align: middle;\n",
       "    }\n",
       "\n",
       "    .dataframe tbody tr th {\n",
       "        vertical-align: top;\n",
       "    }\n",
       "\n",
       "    .dataframe thead th {\n",
       "        text-align: right;\n",
       "    }\n",
       "</style>\n",
       "<table border=\"1\" class=\"dataframe\">\n",
       "  <thead>\n",
       "    <tr style=\"text-align: right;\">\n",
       "      <th></th>\n",
       "      <th>Name</th>\n",
       "      <th>Location</th>\n",
       "      <th>Year</th>\n",
       "      <th>Kilometers_Driven</th>\n",
       "      <th>Fuel_Type</th>\n",
       "      <th>Transmission</th>\n",
       "      <th>Owner_Type</th>\n",
       "      <th>Mileage</th>\n",
       "      <th>Engine</th>\n",
       "      <th>Power</th>\n",
       "      <th>Seats</th>\n",
       "      <th>New_Price</th>\n",
       "      <th>Price</th>\n",
       "      <th>Mileage_Unit</th>\n",
       "      <th>Brand_Name</th>\n",
       "    </tr>\n",
       "  </thead>\n",
       "  <tbody>\n",
       "    <tr>\n",
       "      <th>4446</th>\n",
       "      <td>Mahindra E Verito D4</td>\n",
       "      <td>Chennai</td>\n",
       "      <td>2016</td>\n",
       "      <td>50000</td>\n",
       "      <td>Electric</td>\n",
       "      <td>Automatic</td>\n",
       "      <td>First</td>\n",
       "      <td>15.10</td>\n",
       "      <td>72.0</td>\n",
       "      <td>41.0</td>\n",
       "      <td>5.0</td>\n",
       "      <td>13.58</td>\n",
       "      <td>13.00</td>\n",
       "      <td>NaN</td>\n",
       "      <td>Mahindra</td>\n",
       "    </tr>\n",
       "    <tr>\n",
       "      <th>4904</th>\n",
       "      <td>Toyota Prius 2009-2016 Z4</td>\n",
       "      <td>Mumbai</td>\n",
       "      <td>2011</td>\n",
       "      <td>44000</td>\n",
       "      <td>Electric</td>\n",
       "      <td>Automatic</td>\n",
       "      <td>First</td>\n",
       "      <td>12.99</td>\n",
       "      <td>1798.0</td>\n",
       "      <td>73.0</td>\n",
       "      <td>5.0</td>\n",
       "      <td>24.01</td>\n",
       "      <td>12.75</td>\n",
       "      <td>NaN</td>\n",
       "      <td>Toyota</td>\n",
       "    </tr>\n",
       "  </tbody>\n",
       "</table>\n",
       "</div>"
      ],
      "text/plain": [
       "                           Name Location  Year  Kilometers_Driven Fuel_Type  \\\n",
       "4446       Mahindra E Verito D4  Chennai  2016              50000  Electric   \n",
       "4904  Toyota Prius 2009-2016 Z4   Mumbai  2011              44000  Electric   \n",
       "\n",
       "     Transmission Owner_Type  Mileage  Engine  Power  Seats  New_Price  Price  \\\n",
       "4446    Automatic      First    15.10    72.0   41.0    5.0      13.58  13.00   \n",
       "4904    Automatic      First    12.99  1798.0   73.0    5.0      24.01  12.75   \n",
       "\n",
       "     Mileage_Unit Brand_Name  \n",
       "4446          NaN   Mahindra  \n",
       "4904          NaN     Toyota  "
      ]
     },
     "execution_count": 867,
     "metadata": {},
     "output_type": "execute_result"
    }
   ],
   "source": [
    "# Getting rows with null values in Mileage Unit and Mileage columns for Electric cars\n",
    "df[df['Mileage_Unit'].isnull()]"
   ]
  },
  {
   "cell_type": "code",
   "execution_count": 868,
   "id": "19d04444",
   "metadata": {},
   "outputs": [],
   "source": [
    "# Filling the missing mileage unit for electric vehicles with (mpkWh)\n",
    "df['Mileage_Unit'].fillna(value='mpkWh', inplace=True)"
   ]
  },
  {
   "cell_type": "markdown",
   "id": "0b3ee7ef",
   "metadata": {},
   "source": [
    "As of 2011, the average efficiency rating of electric cars was 3-4mpkWh, while in 2016 it was 4-5 mpkWh. I would be replacing the mileage of these cars by 4."
   ]
  },
  {
   "cell_type": "code",
   "execution_count": 869,
   "id": "566befc1",
   "metadata": {},
   "outputs": [],
   "source": [
    "# Changing the mileage of the electric cars to 4.0\n",
    "df.loc[df['Fuel_Type'] == 'Electric', 'Mileage'] = 4.0"
   ]
  },
  {
   "cell_type": "code",
   "execution_count": 870,
   "id": "3f9b1696",
   "metadata": {},
   "outputs": [
    {
     "data": {
      "text/html": [
       "<div>\n",
       "<style scoped>\n",
       "    .dataframe tbody tr th:only-of-type {\n",
       "        vertical-align: middle;\n",
       "    }\n",
       "\n",
       "    .dataframe tbody tr th {\n",
       "        vertical-align: top;\n",
       "    }\n",
       "\n",
       "    .dataframe thead th {\n",
       "        text-align: right;\n",
       "    }\n",
       "</style>\n",
       "<table border=\"1\" class=\"dataframe\">\n",
       "  <thead>\n",
       "    <tr style=\"text-align: right;\">\n",
       "      <th></th>\n",
       "      <th>Name</th>\n",
       "      <th>Location</th>\n",
       "      <th>Year</th>\n",
       "      <th>Kilometers_Driven</th>\n",
       "      <th>Fuel_Type</th>\n",
       "      <th>Transmission</th>\n",
       "      <th>Owner_Type</th>\n",
       "      <th>Mileage</th>\n",
       "      <th>Engine</th>\n",
       "      <th>Power</th>\n",
       "      <th>Seats</th>\n",
       "      <th>New_Price</th>\n",
       "      <th>Price</th>\n",
       "      <th>Mileage_Unit</th>\n",
       "      <th>Brand_Name</th>\n",
       "    </tr>\n",
       "  </thead>\n",
       "  <tbody>\n",
       "    <tr>\n",
       "      <th>4446</th>\n",
       "      <td>Mahindra E Verito D4</td>\n",
       "      <td>Chennai</td>\n",
       "      <td>2016</td>\n",
       "      <td>50000</td>\n",
       "      <td>Electric</td>\n",
       "      <td>Automatic</td>\n",
       "      <td>First</td>\n",
       "      <td>4.0</td>\n",
       "      <td>72.0</td>\n",
       "      <td>41.0</td>\n",
       "      <td>5.0</td>\n",
       "      <td>13.58</td>\n",
       "      <td>13.00</td>\n",
       "      <td>mpkWh</td>\n",
       "      <td>Mahindra</td>\n",
       "    </tr>\n",
       "    <tr>\n",
       "      <th>4904</th>\n",
       "      <td>Toyota Prius 2009-2016 Z4</td>\n",
       "      <td>Mumbai</td>\n",
       "      <td>2011</td>\n",
       "      <td>44000</td>\n",
       "      <td>Electric</td>\n",
       "      <td>Automatic</td>\n",
       "      <td>First</td>\n",
       "      <td>4.0</td>\n",
       "      <td>1798.0</td>\n",
       "      <td>73.0</td>\n",
       "      <td>5.0</td>\n",
       "      <td>24.01</td>\n",
       "      <td>12.75</td>\n",
       "      <td>mpkWh</td>\n",
       "      <td>Toyota</td>\n",
       "    </tr>\n",
       "  </tbody>\n",
       "</table>\n",
       "</div>"
      ],
      "text/plain": [
       "                           Name Location  Year  Kilometers_Driven Fuel_Type  \\\n",
       "4446       Mahindra E Verito D4  Chennai  2016              50000  Electric   \n",
       "4904  Toyota Prius 2009-2016 Z4   Mumbai  2011              44000  Electric   \n",
       "\n",
       "     Transmission Owner_Type  Mileage  Engine  Power  Seats  New_Price  Price  \\\n",
       "4446    Automatic      First      4.0    72.0   41.0    5.0      13.58  13.00   \n",
       "4904    Automatic      First      4.0  1798.0   73.0    5.0      24.01  12.75   \n",
       "\n",
       "     Mileage_Unit Brand_Name  \n",
       "4446        mpkWh   Mahindra  \n",
       "4904        mpkWh     Toyota  "
      ]
     },
     "execution_count": 870,
     "metadata": {},
     "output_type": "execute_result"
    }
   ],
   "source": [
    "# Quality check\n",
    "df[df['Fuel_Type'] == 'Electric']"
   ]
  },
  {
   "cell_type": "markdown",
   "id": "cb5cea8b",
   "metadata": {},
   "source": [
    "**Missing Power and Mileage Values**"
   ]
  },
  {
   "cell_type": "code",
   "execution_count": 871,
   "id": "c9066b7c",
   "metadata": {},
   "outputs": [
    {
     "data": {
      "text/html": [
       "<div>\n",
       "<style scoped>\n",
       "    .dataframe tbody tr th:only-of-type {\n",
       "        vertical-align: middle;\n",
       "    }\n",
       "\n",
       "    .dataframe tbody tr th {\n",
       "        vertical-align: top;\n",
       "    }\n",
       "\n",
       "    .dataframe thead th {\n",
       "        text-align: right;\n",
       "    }\n",
       "</style>\n",
       "<table border=\"1\" class=\"dataframe\">\n",
       "  <thead>\n",
       "    <tr style=\"text-align: right;\">\n",
       "      <th></th>\n",
       "      <th>Name</th>\n",
       "      <th>Location</th>\n",
       "      <th>Year</th>\n",
       "      <th>Kilometers_Driven</th>\n",
       "      <th>Fuel_Type</th>\n",
       "      <th>Transmission</th>\n",
       "      <th>Owner_Type</th>\n",
       "      <th>Mileage</th>\n",
       "      <th>Engine</th>\n",
       "      <th>Power</th>\n",
       "      <th>Seats</th>\n",
       "      <th>New_Price</th>\n",
       "      <th>Price</th>\n",
       "      <th>Mileage_Unit</th>\n",
       "      <th>Brand_Name</th>\n",
       "    </tr>\n",
       "  </thead>\n",
       "  <tbody>\n",
       "    <tr>\n",
       "      <th>915</th>\n",
       "      <td>Smart Fortwo CDI AT</td>\n",
       "      <td>Pune</td>\n",
       "      <td>2008</td>\n",
       "      <td>103000</td>\n",
       "      <td>Diesel</td>\n",
       "      <td>Automatic</td>\n",
       "      <td>Second</td>\n",
       "      <td>NaN</td>\n",
       "      <td>799.0</td>\n",
       "      <td>NaN</td>\n",
       "      <td>2.0</td>\n",
       "      <td>11.3</td>\n",
       "      <td>3.0</td>\n",
       "      <td>kmpl</td>\n",
       "      <td>Smart</td>\n",
       "    </tr>\n",
       "  </tbody>\n",
       "</table>\n",
       "</div>"
      ],
      "text/plain": [
       "                    Name Location  Year  Kilometers_Driven Fuel_Type  \\\n",
       "915  Smart Fortwo CDI AT     Pune  2008             103000    Diesel   \n",
       "\n",
       "    Transmission Owner_Type  Mileage  Engine  Power  Seats  New_Price  Price  \\\n",
       "915    Automatic     Second      NaN   799.0    NaN    2.0       11.3    3.0   \n",
       "\n",
       "    Mileage_Unit Brand_Name  \n",
       "915         kmpl      Smart  "
      ]
     },
     "execution_count": 871,
     "metadata": {},
     "output_type": "execute_result"
    }
   ],
   "source": [
    "# Getting the missing power value\n",
    "df[df['Power'].isnull()]"
   ]
  },
  {
   "cell_type": "markdown",
   "id": "f77e5f1b",
   "metadata": {},
   "source": [
    "This mileage and power value of this vehicle was not imputed as it is the only car of that brand. I have therefore done research brand and model and would be inputting the values from research on the model.\n",
    "- The mileage of this car brand is 23.52kmpl, and the power is 53.64bhp"
   ]
  },
  {
   "cell_type": "code",
   "execution_count": 872,
   "id": "29108cb9",
   "metadata": {},
   "outputs": [],
   "source": [
    "# Changing the Mileage to 23.52 \n",
    "df.loc[df['Brand_Name'] == 'Smart', 'Mileage'] = 23.52\n",
    "\n",
    "# Changing the power to 53.64\n",
    "df.loc[df['Brand_Name'] == 'Smart', 'Power'] = 53.64"
   ]
  },
  {
   "cell_type": "code",
   "execution_count": 873,
   "id": "787d9c98",
   "metadata": {},
   "outputs": [
    {
     "data": {
      "text/html": [
       "<div>\n",
       "<style scoped>\n",
       "    .dataframe tbody tr th:only-of-type {\n",
       "        vertical-align: middle;\n",
       "    }\n",
       "\n",
       "    .dataframe tbody tr th {\n",
       "        vertical-align: top;\n",
       "    }\n",
       "\n",
       "    .dataframe thead th {\n",
       "        text-align: right;\n",
       "    }\n",
       "</style>\n",
       "<table border=\"1\" class=\"dataframe\">\n",
       "  <thead>\n",
       "    <tr style=\"text-align: right;\">\n",
       "      <th></th>\n",
       "      <th>Name</th>\n",
       "      <th>Location</th>\n",
       "      <th>Year</th>\n",
       "      <th>Kilometers_Driven</th>\n",
       "      <th>Fuel_Type</th>\n",
       "      <th>Transmission</th>\n",
       "      <th>Owner_Type</th>\n",
       "      <th>Mileage</th>\n",
       "      <th>Engine</th>\n",
       "      <th>Power</th>\n",
       "      <th>Seats</th>\n",
       "      <th>New_Price</th>\n",
       "      <th>Price</th>\n",
       "      <th>Mileage_Unit</th>\n",
       "      <th>Brand_Name</th>\n",
       "    </tr>\n",
       "  </thead>\n",
       "  <tbody>\n",
       "    <tr>\n",
       "      <th>915</th>\n",
       "      <td>Smart Fortwo CDI AT</td>\n",
       "      <td>Pune</td>\n",
       "      <td>2008</td>\n",
       "      <td>103000</td>\n",
       "      <td>Diesel</td>\n",
       "      <td>Automatic</td>\n",
       "      <td>Second</td>\n",
       "      <td>23.52</td>\n",
       "      <td>799.0</td>\n",
       "      <td>53.64</td>\n",
       "      <td>2.0</td>\n",
       "      <td>11.3</td>\n",
       "      <td>3.0</td>\n",
       "      <td>kmpl</td>\n",
       "      <td>Smart</td>\n",
       "    </tr>\n",
       "  </tbody>\n",
       "</table>\n",
       "</div>"
      ],
      "text/plain": [
       "                    Name Location  Year  Kilometers_Driven Fuel_Type  \\\n",
       "915  Smart Fortwo CDI AT     Pune  2008             103000    Diesel   \n",
       "\n",
       "    Transmission Owner_Type  Mileage  Engine  Power  Seats  New_Price  Price  \\\n",
       "915    Automatic     Second    23.52   799.0  53.64    2.0       11.3    3.0   \n",
       "\n",
       "    Mileage_Unit Brand_Name  \n",
       "915         kmpl      Smart  "
      ]
     },
     "execution_count": 873,
     "metadata": {},
     "output_type": "execute_result"
    }
   ],
   "source": [
    "# Quality check\n",
    "df[df['Brand_Name'] == 'Smart']"
   ]
  },
  {
   "cell_type": "code",
   "execution_count": 874,
   "id": "5615d372",
   "metadata": {},
   "outputs": [
    {
     "data": {
      "text/plain": [
       "Name                 0\n",
       "Location             0\n",
       "Year                 0\n",
       "Kilometers_Driven    0\n",
       "Fuel_Type            0\n",
       "Transmission         0\n",
       "Owner_Type           0\n",
       "Mileage              0\n",
       "Engine               0\n",
       "Power                0\n",
       "Seats                0\n",
       "New_Price            0\n",
       "Price                0\n",
       "Mileage_Unit         0\n",
       "Brand_Name           0\n",
       "dtype: int64"
      ]
     },
     "execution_count": 874,
     "metadata": {},
     "output_type": "execute_result"
    }
   ],
   "source": [
    "df.isnull().sum()"
   ]
  },
  {
   "cell_type": "markdown",
   "id": "4c0b0a98",
   "metadata": {},
   "source": [
    "**Creating the Car_Age column**  "
   ]
  },
  {
   "cell_type": "markdown",
   "id": "6da40461",
   "metadata": {},
   "source": [
    "As model year is a discrete variable, it may be beneficial to create a column that describes the age of the car which would better describe the target variable (Price). I would be assuming 2023 to be the current year."
   ]
  },
  {
   "cell_type": "code",
   "execution_count": 875,
   "id": "6edc51de",
   "metadata": {},
   "outputs": [],
   "source": [
    "# Creating the Car_Age column\n",
    "def get_car_age(year):\n",
    "    current_year = 2023\n",
    "    car_age = current_year - year\n",
    "    return car_age\n",
    "\n",
    "#applying the function to the Year column to get the Car_Age column\n",
    "df['Car_Age'] = df['Year'].apply(get_car_age)"
   ]
  },
  {
   "cell_type": "code",
   "execution_count": 876,
   "id": "07954b15",
   "metadata": {},
   "outputs": [
    {
     "data": {
      "text/html": [
       "<div>\n",
       "<style scoped>\n",
       "    .dataframe tbody tr th:only-of-type {\n",
       "        vertical-align: middle;\n",
       "    }\n",
       "\n",
       "    .dataframe tbody tr th {\n",
       "        vertical-align: top;\n",
       "    }\n",
       "\n",
       "    .dataframe thead th {\n",
       "        text-align: right;\n",
       "    }\n",
       "</style>\n",
       "<table border=\"1\" class=\"dataframe\">\n",
       "  <thead>\n",
       "    <tr style=\"text-align: right;\">\n",
       "      <th></th>\n",
       "      <th>count</th>\n",
       "      <th>mean</th>\n",
       "      <th>std</th>\n",
       "      <th>min</th>\n",
       "      <th>25%</th>\n",
       "      <th>50%</th>\n",
       "      <th>75%</th>\n",
       "      <th>max</th>\n",
       "    </tr>\n",
       "  </thead>\n",
       "  <tbody>\n",
       "    <tr>\n",
       "      <th>Year</th>\n",
       "      <td>6019.0</td>\n",
       "      <td>2013.358199</td>\n",
       "      <td>3.269742</td>\n",
       "      <td>1998.00</td>\n",
       "      <td>2011.00</td>\n",
       "      <td>2014.00</td>\n",
       "      <td>2016.00</td>\n",
       "      <td>2019.00</td>\n",
       "    </tr>\n",
       "    <tr>\n",
       "      <th>Kilometers_Driven</th>\n",
       "      <td>6019.0</td>\n",
       "      <td>58738.380296</td>\n",
       "      <td>91268.843206</td>\n",
       "      <td>171.00</td>\n",
       "      <td>34000.00</td>\n",
       "      <td>53000.00</td>\n",
       "      <td>73000.00</td>\n",
       "      <td>6500000.00</td>\n",
       "    </tr>\n",
       "    <tr>\n",
       "      <th>Mileage</th>\n",
       "      <td>6019.0</td>\n",
       "      <td>18.321744</td>\n",
       "      <td>4.171318</td>\n",
       "      <td>4.00</td>\n",
       "      <td>15.29</td>\n",
       "      <td>18.20</td>\n",
       "      <td>21.10</td>\n",
       "      <td>33.54</td>\n",
       "    </tr>\n",
       "    <tr>\n",
       "      <th>Engine</th>\n",
       "      <td>6019.0</td>\n",
       "      <td>1620.431135</td>\n",
       "      <td>600.404083</td>\n",
       "      <td>72.00</td>\n",
       "      <td>1197.00</td>\n",
       "      <td>1493.00</td>\n",
       "      <td>1984.00</td>\n",
       "      <td>5998.00</td>\n",
       "    </tr>\n",
       "    <tr>\n",
       "      <th>Power</th>\n",
       "      <td>6019.0</td>\n",
       "      <td>112.928242</td>\n",
       "      <td>53.635865</td>\n",
       "      <td>34.20</td>\n",
       "      <td>75.00</td>\n",
       "      <td>93.70</td>\n",
       "      <td>138.10</td>\n",
       "      <td>560.00</td>\n",
       "    </tr>\n",
       "    <tr>\n",
       "      <th>Seats</th>\n",
       "      <td>6019.0</td>\n",
       "      <td>5.277953</td>\n",
       "      <td>0.803778</td>\n",
       "      <td>2.00</td>\n",
       "      <td>5.00</td>\n",
       "      <td>5.00</td>\n",
       "      <td>5.00</td>\n",
       "      <td>10.00</td>\n",
       "    </tr>\n",
       "    <tr>\n",
       "      <th>New_Price</th>\n",
       "      <td>6019.0</td>\n",
       "      <td>21.499855</td>\n",
       "      <td>24.332922</td>\n",
       "      <td>3.91</td>\n",
       "      <td>7.88</td>\n",
       "      <td>11.30</td>\n",
       "      <td>21.77</td>\n",
       "      <td>375.00</td>\n",
       "    </tr>\n",
       "    <tr>\n",
       "      <th>Price</th>\n",
       "      <td>6019.0</td>\n",
       "      <td>9.479468</td>\n",
       "      <td>11.187917</td>\n",
       "      <td>0.44</td>\n",
       "      <td>3.50</td>\n",
       "      <td>5.64</td>\n",
       "      <td>9.95</td>\n",
       "      <td>160.00</td>\n",
       "    </tr>\n",
       "    <tr>\n",
       "      <th>Car_Age</th>\n",
       "      <td>6019.0</td>\n",
       "      <td>9.641801</td>\n",
       "      <td>3.269742</td>\n",
       "      <td>4.00</td>\n",
       "      <td>7.00</td>\n",
       "      <td>9.00</td>\n",
       "      <td>12.00</td>\n",
       "      <td>25.00</td>\n",
       "    </tr>\n",
       "  </tbody>\n",
       "</table>\n",
       "</div>"
      ],
      "text/plain": [
       "                    count          mean           std      min       25%  \\\n",
       "Year               6019.0   2013.358199      3.269742  1998.00   2011.00   \n",
       "Kilometers_Driven  6019.0  58738.380296  91268.843206   171.00  34000.00   \n",
       "Mileage            6019.0     18.321744      4.171318     4.00     15.29   \n",
       "Engine             6019.0   1620.431135    600.404083    72.00   1197.00   \n",
       "Power              6019.0    112.928242     53.635865    34.20     75.00   \n",
       "Seats              6019.0      5.277953      0.803778     2.00      5.00   \n",
       "New_Price          6019.0     21.499855     24.332922     3.91      7.88   \n",
       "Price              6019.0      9.479468     11.187917     0.44      3.50   \n",
       "Car_Age            6019.0      9.641801      3.269742     4.00      7.00   \n",
       "\n",
       "                        50%       75%         max  \n",
       "Year                2014.00   2016.00     2019.00  \n",
       "Kilometers_Driven  53000.00  73000.00  6500000.00  \n",
       "Mileage               18.20     21.10       33.54  \n",
       "Engine              1493.00   1984.00     5998.00  \n",
       "Power                 93.70    138.10      560.00  \n",
       "Seats                  5.00      5.00       10.00  \n",
       "New_Price             11.30     21.77      375.00  \n",
       "Price                  5.64      9.95      160.00  \n",
       "Car_Age                9.00     12.00       25.00  "
      ]
     },
     "execution_count": 876,
     "metadata": {},
     "output_type": "execute_result"
    }
   ],
   "source": [
    "# Checking the key statistics after data cleaning\n",
    "df.describe().T"
   ]
  },
  {
   "cell_type": "code",
   "execution_count": 877,
   "id": "8e7193de",
   "metadata": {},
   "outputs": [
    {
     "name": "stdout",
     "output_type": "stream",
     "text": [
      "<class 'pandas.core.frame.DataFrame'>\n",
      "Int64Index: 6019 entries, 0 to 6018\n",
      "Data columns (total 16 columns):\n",
      " #   Column             Non-Null Count  Dtype  \n",
      "---  ------             --------------  -----  \n",
      " 0   Name               6019 non-null   object \n",
      " 1   Location           6019 non-null   object \n",
      " 2   Year               6019 non-null   int64  \n",
      " 3   Kilometers_Driven  6019 non-null   int64  \n",
      " 4   Fuel_Type          6019 non-null   object \n",
      " 5   Transmission       6019 non-null   object \n",
      " 6   Owner_Type         6019 non-null   object \n",
      " 7   Mileage            6019 non-null   float64\n",
      " 8   Engine             6019 non-null   float64\n",
      " 9   Power              6019 non-null   float64\n",
      " 10  Seats              6019 non-null   float64\n",
      " 11  New_Price          6019 non-null   float64\n",
      " 12  Price              6019 non-null   float64\n",
      " 13  Mileage_Unit       6019 non-null   object \n",
      " 14  Brand_Name         6019 non-null   object \n",
      " 15  Car_Age            6019 non-null   int64  \n",
      "dtypes: float64(6), int64(3), object(7)\n",
      "memory usage: 799.4+ KB\n"
     ]
    }
   ],
   "source": [
    "df.info()"
   ]
  },
  {
   "cell_type": "markdown",
   "id": "5baaf6ea",
   "metadata": {},
   "source": [
    "### Univariate Analysis"
   ]
  },
  {
   "cell_type": "markdown",
   "id": "1547a67d",
   "metadata": {},
   "source": [
    "utils contains previously defined functions for visualization"
   ]
  },
  {
   "cell_type": "code",
   "execution_count": 878,
   "id": "a933cf37",
   "metadata": {},
   "outputs": [],
   "source": [
    "# importing the utils functions\n",
    "from utils import histogram_boxplot, labeled_barplot"
   ]
  },
  {
   "cell_type": "code",
   "execution_count": 879,
   "id": "bbefe2f3",
   "metadata": {},
   "outputs": [
    {
     "name": "stdout",
     "output_type": "stream",
     "text": [
      "['Name', 'Location', 'Year', 'Kilometers_Driven', 'Fuel_Type', 'Transmission', 'Owner_Type', 'Mileage', 'Engine', 'Power', 'Seats', 'New_Price', 'Price', 'Mileage_Unit', 'Brand_Name', 'Car_Age']\n"
     ]
    }
   ],
   "source": [
    "# Getting the column names\n",
    "cols = df.columns.to_list()\n",
    "print(cols)"
   ]
  },
  {
   "cell_type": "markdown",
   "id": "1e9eea9a",
   "metadata": {},
   "source": [
    "**Price**"
   ]
  },
  {
   "cell_type": "code",
   "execution_count": 880,
   "id": "558e06d1",
   "metadata": {},
   "outputs": [
    {
     "data": {
      "image/png": "[encoded data removed]",
      "text/plain": [
       "<Figure size 648x360 with 2 Axes>"
      ]
     },
     "metadata": {
      "needs_background": "light"
     },
     "output_type": "display_data"
    }
   ],
   "source": [
    "# Plotting the Price variable\n",
    "histogram_boxplot(data = df, feature = 'Price')"
   ]
  },
  {
   "cell_type": "markdown",
   "id": "392bebe2",
   "metadata": {},
   "source": [
    "**Observation:**  \n",
    "The target variable (price) is very right skewed. It shows that most cars are between 0 - 10 dollars. There are outliers present, with the maximum price being 160 dollars which seems quite high for a used car. The median is very far from the mean as seen in the plot. \n",
    "\n",
    "One of the assumptions of linear regression is that the target variable is normally distributed. Hence, log transformation would be used to achieve this."
   ]
  },
  {
   "cell_type": "markdown",
   "id": "c748e183",
   "metadata": {},
   "source": [
    "**Log_Price**"
   ]
  },
  {
   "cell_type": "code",
   "execution_count": 881,
   "id": "6564da29",
   "metadata": {},
   "outputs": [],
   "source": [
    "# log transformation of the target variable (Price) and renaming it to a new variable Log_Price\n",
    "df['Log_Price'] = np.log(df['Price'])"
   ]
  },
  {
   "cell_type": "code",
   "execution_count": 882,
   "id": "3ff7b25e",
   "metadata": {},
   "outputs": [
    {
     "data": {
      "image/png": "[encoded data removed]",
      "text/plain": [
       "<Figure size 648x360 with 2 Axes>"
      ]
     },
     "metadata": {
      "needs_background": "light"
     },
     "output_type": "display_data"
    }
   ],
   "source": [
    "# Plotting the Log_Price variable\n",
    "histogram_boxplot(data = df, feature = 'Log_Price')"
   ]
  },
  {
   "cell_type": "markdown",
   "id": "cc0c8c9d",
   "metadata": {},
   "source": [
    "**Observation:**  \n",
    "The median is now closer to the mean, but outliers still persist on the lower and upper side of the distribution."
   ]
  },
  {
   "cell_type": "markdown",
   "id": "e2353107",
   "metadata": {},
   "source": [
    "**Kilometers_Driven**"
   ]
  },
  {
   "cell_type": "code",
   "execution_count": 883,
   "id": "e0d771f7",
   "metadata": {},
   "outputs": [
    {
     "data": {
      "image/png": "[encoded data removed]",
      "text/plain": [
       "<Figure size 648x360 with 2 Axes>"
      ]
     },
     "metadata": {
      "needs_background": "light"
     },
     "output_type": "display_data"
    }
   ],
   "source": [
    "# plotting the Kilometers_Driven visualisation\n",
    "histogram_boxplot(data = df, feature = 'Kilometers_Driven')"
   ]
  },
  {
   "cell_type": "code",
   "execution_count": 884,
   "id": "6b2ca9c6",
   "metadata": {},
   "outputs": [
    {
     "data": {
      "text/html": [
       "<div>\n",
       "<style scoped>\n",
       "    .dataframe tbody tr th:only-of-type {\n",
       "        vertical-align: middle;\n",
       "    }\n",
       "\n",
       "    .dataframe tbody tr th {\n",
       "        vertical-align: top;\n",
       "    }\n",
       "\n",
       "    .dataframe thead th {\n",
       "        text-align: right;\n",
       "    }\n",
       "</style>\n",
       "<table border=\"1\" class=\"dataframe\">\n",
       "  <thead>\n",
       "    <tr style=\"text-align: right;\">\n",
       "      <th></th>\n",
       "      <th>Name</th>\n",
       "      <th>Location</th>\n",
       "      <th>Year</th>\n",
       "      <th>Kilometers_Driven</th>\n",
       "      <th>Fuel_Type</th>\n",
       "      <th>Transmission</th>\n",
       "      <th>Owner_Type</th>\n",
       "      <th>Mileage</th>\n",
       "      <th>Engine</th>\n",
       "      <th>Power</th>\n",
       "      <th>Seats</th>\n",
       "      <th>New_Price</th>\n",
       "      <th>Price</th>\n",
       "      <th>Mileage_Unit</th>\n",
       "      <th>Brand_Name</th>\n",
       "      <th>Car_Age</th>\n",
       "      <th>Log_Price</th>\n",
       "    </tr>\n",
       "  </thead>\n",
       "  <tbody>\n",
       "    <tr>\n",
       "      <th>2328</th>\n",
       "      <td>BMW X5 xDrive 30d M Sport</td>\n",
       "      <td>Chennai</td>\n",
       "      <td>2017</td>\n",
       "      <td>6500000</td>\n",
       "      <td>Diesel</td>\n",
       "      <td>Automatic</td>\n",
       "      <td>First</td>\n",
       "      <td>15.97</td>\n",
       "      <td>2993.0</td>\n",
       "      <td>258.0</td>\n",
       "      <td>5.0</td>\n",
       "      <td>55.07</td>\n",
       "      <td>65.0</td>\n",
       "      <td>kmpl</td>\n",
       "      <td>BMW</td>\n",
       "      <td>6</td>\n",
       "      <td>4.174387</td>\n",
       "    </tr>\n",
       "  </tbody>\n",
       "</table>\n",
       "</div>"
      ],
      "text/plain": [
       "                           Name Location  Year  Kilometers_Driven Fuel_Type  \\\n",
       "2328  BMW X5 xDrive 30d M Sport  Chennai  2017            6500000    Diesel   \n",
       "\n",
       "     Transmission Owner_Type  Mileage  Engine  Power  Seats  New_Price  Price  \\\n",
       "2328    Automatic      First    15.97  2993.0  258.0    5.0      55.07   65.0   \n",
       "\n",
       "     Mileage_Unit Brand_Name  Car_Age  Log_Price  \n",
       "2328         kmpl        BMW        6   4.174387  "
      ]
     },
     "execution_count": 884,
     "metadata": {},
     "output_type": "execute_result"
    }
   ],
   "source": [
    "#getting the maximum value\n",
    "max_km = df['Kilometers_Driven'].max()\n",
    "\n",
    "#subsetting the data\n",
    "df[df['Kilometers_Driven'] == max_km]"
   ]
  },
  {
   "cell_type": "markdown",
   "id": "c2ee61f2",
   "metadata": {},
   "source": [
    "**Observation:**  \n",
    "The median is close to the mean, but the distribution is moderately right-skewed beacuse the max value is very high and unusual. This is an outlier, as a 6 year old car could not possibly have a mileage reading of 6500000. "
   ]
  },
  {
   "cell_type": "markdown",
   "id": "59458748",
   "metadata": {},
   "source": [
    "**Mileage**"
   ]
  },
  {
   "cell_type": "code",
   "execution_count": 885,
   "id": "1fd74228",
   "metadata": {},
   "outputs": [
    {
     "data": {
      "image/png": "[encoded data removed]",
      "text/plain": [
       "<Figure size 648x360 with 2 Axes>"
      ]
     },
     "metadata": {
      "needs_background": "light"
     },
     "output_type": "display_data"
    }
   ],
   "source": [
    "# Plotting the Log_Price variable\n",
    "histogram_boxplot(data = df, feature = 'Mileage')"
   ]
  },
  {
   "cell_type": "markdown",
   "id": "7eb0be50",
   "metadata": {},
   "source": [
    "**Observation:**  \n",
    "The Mileage column seems to be normally distributed. There are few outliers on the lower and upper ends of the plot."
   ]
  },
  {
   "cell_type": "markdown",
   "id": "b1ecaddc",
   "metadata": {},
   "source": [
    "**Engine**"
   ]
  },
  {
   "cell_type": "code",
   "execution_count": 886,
   "id": "f86bf0b3",
   "metadata": {},
   "outputs": [
    {
     "data": {
      "image/png": "[encoded data removed]",
      "text/plain": [
       "<Figure size 648x360 with 2 Axes>"
      ]
     },
     "metadata": {
      "needs_background": "light"
     },
     "output_type": "display_data"
    }
   ],
   "source": [
    "# Plotting the Engine variable\n",
    "histogram_boxplot(data = df, feature = 'Engine')"
   ]
  },
  {
   "cell_type": "markdown",
   "id": "a33c44aa",
   "metadata": {},
   "source": [
    "**Observation:**  \n",
    "The Engine column is slightly right skewed because of the presence of powerful high-speed cars. However, the most common car engine displacement volume is about 1200CC, and most cars have between 1000CC and 2000CC."
   ]
  },
  {
   "cell_type": "markdown",
   "id": "0abfb9e9",
   "metadata": {},
   "source": [
    "**Power**"
   ]
  },
  {
   "cell_type": "code",
   "execution_count": 887,
   "id": "0d8285a3",
   "metadata": {},
   "outputs": [
    {
     "data": {
      "image/png": "[encoded data removed]",
      "text/plain": [
       "<Figure size 648x360 with 2 Axes>"
      ]
     },
     "metadata": {
      "needs_background": "light"
     },
     "output_type": "display_data"
    }
   ],
   "source": [
    "# Plotting the Power variable\n",
    "histogram_boxplot(data = df, feature = 'Power')"
   ]
  },
  {
   "cell_type": "markdown",
   "id": "fe66bbb3",
   "metadata": {},
   "source": [
    "**Observation:**  \n",
    "The Power column is right skewed as most of the values are between 0 to about 130. The mean is also very far from the median."
   ]
  },
  {
   "cell_type": "markdown",
   "id": "ed858f6b",
   "metadata": {},
   "source": [
    "**Location**"
   ]
  },
  {
   "cell_type": "code",
   "execution_count": 888,
   "id": "89ade481",
   "metadata": {},
   "outputs": [
    {
     "data": {
      "image/png": "[encoded data removed]",
      "text/plain": [
       "<Figure size 864x360 with 1 Axes>"
      ]
     },
     "metadata": {
      "needs_background": "light"
     },
     "output_type": "display_data"
    }
   ],
   "source": [
    "# plotting the Location variable\n",
    "labeled_barplot(df, \"Location\", perc=True)"
   ]
  },
  {
   "cell_type": "markdown",
   "id": "5ce9786d",
   "metadata": {},
   "source": [
    "Most cars are sold in Mumbai with 13.1% of the market-share, followed by Hyderabad at 12.3% and Kochi at 10.8%.  \n",
    "This could point to the fact that the population here can afford to buy the cars and/or these locations are prime spots for the pre-owned cars business."
   ]
  },
  {
   "cell_type": "markdown",
   "id": "b1338d3f",
   "metadata": {},
   "source": [
    "**Year**"
   ]
  },
  {
   "cell_type": "code",
   "execution_count": 889,
   "id": "06006eb9",
   "metadata": {},
   "outputs": [
    {
     "data": {
      "image/png": "[encoded data removed]",
      "text/plain": [
       "<Figure size 1656x360 with 1 Axes>"
      ]
     },
     "metadata": {
      "needs_background": "light"
     },
     "output_type": "display_data"
    }
   ],
   "source": [
    "# plotting the Year variable\n",
    "labeled_barplot(df, \"Year\", perc=True)"
   ]
  },
  {
   "cell_type": "markdown",
   "id": "8ce50322",
   "metadata": {},
   "source": [
    "The plot shows that most cars sold are manufactured between 2012 and 2017, with 2014 being the highest at 13.2%.  \n",
    "This could point to the fact that people are not predisposed to buying older model cars, and much newer models may be too expensive to purchase, except for a select few that can afford it."
   ]
  },
  {
   "cell_type": "markdown",
   "id": "fc3e471d",
   "metadata": {},
   "source": [
    "**Car Age**"
   ]
  },
  {
   "cell_type": "code",
   "execution_count": 890,
   "id": "3a34e308",
   "metadata": {},
   "outputs": [
    {
     "data": {
      "image/png": "[encoded data removed]",
      "text/plain": [
       "<Figure size 1656x360 with 1 Axes>"
      ]
     },
     "metadata": {
      "needs_background": "light"
     },
     "output_type": "display_data"
    }
   ],
   "source": [
    "# plotting the Car_Age variable\n",
    "labeled_barplot(df, \"Car_Age\", perc=True)"
   ]
  },
  {
   "cell_type": "markdown",
   "id": "4f3158dd",
   "metadata": {},
   "source": [
    "As seen in the year plot, it can be confirmed that cars between 6 and 11 years sell faster. Highest selling cars are 9 years with 13.2%."
   ]
  },
  {
   "cell_type": "markdown",
   "id": "0efa4eb9",
   "metadata": {},
   "source": [
    "**Fuel_Type**"
   ]
  },
  {
   "cell_type": "code",
   "execution_count": 891,
   "id": "a02cb3a1",
   "metadata": {},
   "outputs": [
    {
     "data": {
      "image/png": "[encoded data removed]",
      "text/plain": [
       "<Figure size 432x360 with 1 Axes>"
      ]
     },
     "metadata": {
      "needs_background": "light"
     },
     "output_type": "display_data"
    }
   ],
   "source": [
    "# plotting the Fuel_Type variable\n",
    "labeled_barplot(df, \"Fuel_Type\", perc=True)"
   ]
  },
  {
   "cell_type": "markdown",
   "id": "19ed3d9f",
   "metadata": {},
   "source": [
    "Most cars use Diesel (53.2%) and Petrol (45.6%) as fuel. CNG (0.9%) and LPG (0.2%) are not common with Electric even more so."
   ]
  },
  {
   "cell_type": "markdown",
   "id": "4cd0c30d",
   "metadata": {},
   "source": [
    "**Transmission**"
   ]
  },
  {
   "cell_type": "code",
   "execution_count": 892,
   "id": "c6315532",
   "metadata": {},
   "outputs": [
    {
     "data": {
      "image/png": "[encoded data removed]",
      "text/plain": [
       "<Figure size 216x360 with 1 Axes>"
      ]
     },
     "metadata": {
      "needs_background": "light"
     },
     "output_type": "display_data"
    }
   ],
   "source": [
    "# plotting the Transmission variable\n",
    "labeled_barplot(df, \"Transmission\", perc=True)"
   ]
  },
  {
   "cell_type": "markdown",
   "id": "5d3aba82",
   "metadata": {},
   "source": [
    "Manual cars (71.4%) are more popular than Automatic cars (28.6%)"
   ]
  },
  {
   "cell_type": "markdown",
   "id": "ff4a74b3",
   "metadata": {},
   "source": [
    "**Owner Type**"
   ]
  },
  {
   "cell_type": "code",
   "execution_count": 893,
   "id": "96e3e9c2",
   "metadata": {},
   "outputs": [
    {
     "data": {
      "image/png": "[encoded data removed]",
      "text/plain": [
       "<Figure size 360x360 with 1 Axes>"
      ]
     },
     "metadata": {
      "needs_background": "light"
     },
     "output_type": "display_data"
    }
   ],
   "source": [
    "# plotting the Owner_Type variable\n",
    "labeled_barplot(df, \"Owner_Type\", perc=True)"
   ]
  },
  {
   "cell_type": "markdown",
   "id": "7f8ef75c",
   "metadata": {},
   "source": [
    "First-owned cars are more popular among buyers at 81.9%. The plot shows that the more owners a car has, the less its selling value. This would be confirmed in the bivariate analysis"
   ]
  },
  {
   "cell_type": "markdown",
   "id": "040ac4a6",
   "metadata": {},
   "source": [
    "**Seats**"
   ]
  },
  {
   "cell_type": "code",
   "execution_count": 894,
   "id": "df53af81",
   "metadata": {},
   "outputs": [
    {
     "data": {
      "image/png": "[encoded data removed]",
      "text/plain": [
       "<Figure size 648x360 with 1 Axes>"
      ]
     },
     "metadata": {
      "needs_background": "light"
     },
     "output_type": "display_data"
    }
   ],
   "source": [
    "# plotting the Seats variable\n",
    "labeled_barplot(df, \"Seats\", perc=True)"
   ]
  },
  {
   "cell_type": "markdown",
   "id": "b1243456",
   "metadata": {},
   "source": [
    "Most cars have 5 seats (84.0%). This could point to the fact that cars with 5 seats are cheaper. Alternatively, cars with 2 seats are less common and could point to the fact that they are more expensive."
   ]
  },
  {
   "cell_type": "markdown",
   "id": "bc512eb1",
   "metadata": {},
   "source": [
    "**Brand Name**"
   ]
  },
  {
   "cell_type": "code",
   "execution_count": 895,
   "id": "53be8a9f",
   "metadata": {},
   "outputs": [
    {
     "data": {
      "image/png": "[encoded data removed]",
      "text/plain": [
       "<Figure size 2232x360 with 1 Axes>"
      ]
     },
     "metadata": {
      "needs_background": "light"
     },
     "output_type": "display_data"
    }
   ],
   "source": [
    "# plotting the Brand_Name variable\n",
    "labeled_barplot(df, \"Brand_Name\", perc=True)"
   ]
  },
  {
   "cell_type": "markdown",
   "id": "de32f566",
   "metadata": {},
   "source": [
    "Maruti (20.1%), Hyundai (18.4%) and Honda (10.1%) are the most popular car brands. A bivariate plot of this variable with the target variable would be done to further understand why."
   ]
  },
  {
   "cell_type": "markdown",
   "id": "9e068def",
   "metadata": {},
   "source": [
    "### Bivariate Analysis"
   ]
  },
  {
   "cell_type": "markdown",
   "id": "c8e6303f",
   "metadata": {},
   "source": [
    "**Correlation between numerical variables**"
   ]
  },
  {
   "cell_type": "code",
   "execution_count": 896,
   "id": "55f9f6bc",
   "metadata": {},
   "outputs": [
    {
     "name": "stderr",
     "output_type": "stream",
     "text": [
      "/var/folders/2k/0kq3ns6d15zc29hhnqxvjj2m0000gp/T/ipykernel_2321/1262897864.py:2: FutureWarning: The default value of numeric_only in DataFrame.corr is deprecated. In a future version, it will default to False. Select only valid columns or specify the value of numeric_only to silence this warning.\n",
      "  sns.heatmap(df.corr(), annot=True, vmin=-1, vmax=1, fmt=\".2f\")\n"
     ]
    },
    {
     "data": {
      "image/png": "[encoded data removed]",
      "text/plain": [
       "<Figure size 1080x504 with 2 Axes>"
      ]
     },
     "metadata": {
      "needs_background": "light"
     },
     "output_type": "display_data"
    }
   ],
   "source": [
    "plt.figure(figsize=(15, 7))\n",
    "sns.heatmap(df.corr(), annot=True, vmin=-1, vmax=1, fmt=\".2f\")\n",
    "plt.show()"
   ]
  },
  {
   "cell_type": "markdown",
   "id": "7cd8cd72",
   "metadata": {},
   "source": [
    "**Observation:**  \n",
    "- There is a low correlation between the price and the year of manufacture, also as expected, the car age has a negative correlation with price. The older a car is, the lower its price. Log_Price however is moderately correlated with year and moderately negatively correlated with car age.  \n",
    "- Mileage is negatively moderately correlated with Engine and Power. That means the more power and engine capacity a car has, the less fuel efficient it is.\n",
    "- Engine has a high correlation with Power. The more engine capacity, the more power the car generates. This also applies to all price values. Cars with bigger engine capacity tend to be more expensive.\n",
    "- We can also see that Engine is highly correlated with power, therefore only one of these variables is needed to build the model. New_price, Price and Log_Price are highly correlated with each other. I would be using the Log_Price to build the model.\n",
    "- Car age and Year are similar, and contibute the same to the target and other independent variables. I would be using the car age in the model."
   ]
  },
  {
   "cell_type": "markdown",
   "id": "f3cc8d1c",
   "metadata": {},
   "source": [
    "### Other bivariate analysis"
   ]
  },
  {
   "cell_type": "markdown",
   "id": "d38a5069",
   "metadata": {},
   "source": [
    "**Brand vs Log Price**"
   ]
  },
  {
   "cell_type": "code",
   "execution_count": 897,
   "id": "6a4cf17f",
   "metadata": {},
   "outputs": [
    {
     "data": {
      "image/png": "[encoded data removed]",
      "text/plain": [
       "<Figure size 1080x504 with 1 Axes>"
      ]
     },
     "metadata": {
      "needs_background": "light"
     },
     "output_type": "display_data"
    }
   ],
   "source": [
    "plt.figure(figsize=(15, 7))\n",
    "sns.barplot(x=\"Price\", y=\"Brand_Name\", data=df)\n",
    "plt.show()"
   ]
  },
  {
   "cell_type": "markdown",
   "id": "7a5bf28d",
   "metadata": {},
   "source": [
    "As suspected, Maruti, Hyundai and Honda brands are cheap brands hence their popularity."
   ]
  },
  {
   "cell_type": "markdown",
   "id": "261e5cc7",
   "metadata": {},
   "source": [
    "**Location vs Price**"
   ]
  },
  {
   "cell_type": "code",
   "execution_count": 898,
   "id": "8ee2b40c",
   "metadata": {},
   "outputs": [
    {
     "data": {
      "image/png": "[encoded data removed]",
      "text/plain": [
       "<Figure size 1080x504 with 1 Axes>"
      ]
     },
     "metadata": {
      "needs_background": "light"
     },
     "output_type": "display_data"
    }
   ],
   "source": [
    "plt.figure(figsize=(15, 7))\n",
    "sns.barplot(x=\"Location\", y=\"Price\", data=df)\n",
    "plt.show()"
   ]
  },
  {
   "cell_type": "markdown",
   "id": "5734f29e",
   "metadata": {},
   "source": [
    "It can be seen that cars in Mumbai, Hyderabad and Kochi, which are the most popular locations, are moderately priced and have similar ranges. This is probably the attraction as prices here are fairly standardized. It would be beneficial to the business to break into the market in these locations so as not to be shunned in locations of high prices or lose out of potential profit from lower price regions.\n",
    "\n",
    "Cars are more expensive in Coimbatore and Bangalore, while places like Jaipur, Kolta and Pune have low prices. "
   ]
  },
  {
   "cell_type": "markdown",
   "id": "04b78fe9",
   "metadata": {},
   "source": [
    "**Car Age vs Price**"
   ]
  },
  {
   "cell_type": "code",
   "execution_count": 899,
   "id": "f751fa2b",
   "metadata": {},
   "outputs": [
    {
     "data": {
      "image/png": "[encoded data removed]",
      "text/plain": [
       "<Figure size 1080x504 with 1 Axes>"
      ]
     },
     "metadata": {
      "needs_background": "light"
     },
     "output_type": "display_data"
    }
   ],
   "source": [
    "plt.figure(figsize=(15, 7))\n",
    "sns.barplot(x=\"Car_Age\", y=\"Price\", data=df)\n",
    "plt.show()"
   ]
  },
  {
   "cell_type": "markdown",
   "id": "527972f9",
   "metadata": {},
   "source": [
    "The newer a car model, the more expensive it is."
   ]
  },
  {
   "cell_type": "markdown",
   "id": "2b39a1fa",
   "metadata": {},
   "source": [
    "**Fuel Type vs Price**"
   ]
  },
  {
   "cell_type": "code",
   "execution_count": 900,
   "id": "896d22d7",
   "metadata": {},
   "outputs": [
    {
     "data": {
      "image/png": "[encoded data removed]",
      "text/plain": [
       "<Figure size 1080x504 with 1 Axes>"
      ]
     },
     "metadata": {
      "needs_background": "light"
     },
     "output_type": "display_data"
    }
   ],
   "source": [
    "plt.figure(figsize=(15, 7))\n",
    "sns.barplot(x=\"Fuel_Type\", y=\"Price\", data=df)\n",
    "plt.show()"
   ]
  },
  {
   "cell_type": "markdown",
   "id": "bdb683e1",
   "metadata": {},
   "source": [
    "Diesel, Electric and Petrol cars are more expensive that others. "
   ]
  },
  {
   "cell_type": "markdown",
   "id": "3f9b189f",
   "metadata": {},
   "source": [
    "**Transmission vs Price**"
   ]
  },
  {
   "cell_type": "code",
   "execution_count": 901,
   "id": "eac7d207",
   "metadata": {},
   "outputs": [
    {
     "data": {
      "image/png": "[encoded data removed]",
      "text/plain": [
       "<Figure size 1080x504 with 1 Axes>"
      ]
     },
     "metadata": {
      "needs_background": "light"
     },
     "output_type": "display_data"
    }
   ],
   "source": [
    "plt.figure(figsize=(15, 7))\n",
    "sns.barplot(x=\"Transmission\", y=\"Price\", data=df)\n",
    "plt.show()"
   ]
  },
  {
   "cell_type": "markdown",
   "id": "ba2ef161",
   "metadata": {},
   "source": [
    "Automatic cars cost more than Manual cars, hence the popularity of manual cars over automatic cars."
   ]
  },
  {
   "cell_type": "markdown",
   "id": "c1faa266",
   "metadata": {},
   "source": [
    "**Owner Type vs Price**"
   ]
  },
  {
   "cell_type": "code",
   "execution_count": 902,
   "id": "c288ab9c",
   "metadata": {},
   "outputs": [
    {
     "data": {
      "image/png": "[encoded data removed]",
      "text/plain": [
       "<Figure size 1080x504 with 1 Axes>"
      ]
     },
     "metadata": {
      "needs_background": "light"
     },
     "output_type": "display_data"
    }
   ],
   "source": [
    "plt.figure(figsize=(15, 7))\n",
    "sns.barplot(x=\"Owner_Type\", y=\"Price\", data=df)\n",
    "plt.show()"
   ]
  },
  {
   "cell_type": "markdown",
   "id": "ae3ac33c",
   "metadata": {},
   "source": [
    "The more owners a car has had, the less expensive it is. However, customers would still tend to go for first owner cars because there is probably a high chance it has been properly maintained by the initial owner, and hence would not cause a liability to the customer."
   ]
  },
  {
   "cell_type": "markdown",
   "id": "52dfd740",
   "metadata": {},
   "source": [
    "**Seats vs Price**"
   ]
  },
  {
   "cell_type": "code",
   "execution_count": 903,
   "id": "697bf32d",
   "metadata": {},
   "outputs": [
    {
     "data": {
      "image/png": "[encoded data removed]",
      "text/plain": [
       "<Figure size 1080x504 with 1 Axes>"
      ]
     },
     "metadata": {
      "needs_background": "light"
     },
     "output_type": "display_data"
    }
   ],
   "source": [
    "plt.figure(figsize=(15, 7))\n",
    "sns.barplot(x=\"Seats\", y=\"Price\", data=df)\n",
    "plt.show()"
   ]
  },
  {
   "cell_type": "markdown",
   "id": "7815b7f6",
   "metadata": {},
   "source": [
    "Cars with two seats cost the most (probably sports cars), followed by 4 seats and then 7 seats. Cars with 5 seats are relatively cheaper, hence their popularity over the others."
   ]
  },
  {
   "cell_type": "markdown",
   "id": "3dad6c5a",
   "metadata": {},
   "source": [
    "**Outlier Treatment on Numerical Variables**"
   ]
  },
  {
   "cell_type": "code",
   "execution_count": 904,
   "id": "61d98a8e",
   "metadata": {},
   "outputs": [
    {
     "data": {
      "text/plain": [
       "['Year',\n",
       " 'Kilometers_Driven',\n",
       " 'Mileage',\n",
       " 'Engine',\n",
       " 'Power',\n",
       " 'Seats',\n",
       " 'New_Price',\n",
       " 'Price',\n",
       " 'Car_Age',\n",
       " 'Log_Price']"
      ]
     },
     "execution_count": 904,
     "metadata": {},
     "output_type": "execute_result"
    }
   ],
   "source": [
    "# Creating a new numerical column variable to include newly created variables\n",
    "new_num_cols = df.select_dtypes(include='number').columns.to_list()\n",
    "new_num_cols"
   ]
  },
  {
   "cell_type": "code",
   "execution_count": 905,
   "id": "1a24f8f8",
   "metadata": {},
   "outputs": [
    {
     "data": {
      "image/png": "[encoded data removed]",
      "text/plain": [
       "<Figure size 1440x2160 with 10 Axes>"
      ]
     },
     "metadata": {
      "needs_background": "light"
     },
     "output_type": "display_data"
    }
   ],
   "source": [
    "# outlier detection using boxplot\n",
    "plt.figure(figsize=(20, 30))\n",
    "\n",
    "for i, variable in enumerate(new_num_cols):\n",
    "    plt.subplot(5, 4, i + 1)\n",
    "    plt.boxplot(df[variable])\n",
    "#     plt.tight_layout()  # to avoid the title from overlapping\n",
    "    plt.title(variable)\n",
    "plt.savefig('out.png')\n",
    "plt.show()"
   ]
  },
  {
   "cell_type": "markdown",
   "id": "53be8f6c",
   "metadata": {},
   "source": [
    "All the numerical variables have outliers, including the target which has only upper outliers. The log_price has both upper and lower outliers. "
   ]
  },
  {
   "cell_type": "code",
   "execution_count": 906,
   "id": "3b778d6d",
   "metadata": {},
   "outputs": [
    {
     "data": {
      "text/html": [
       "<div>\n",
       "<style scoped>\n",
       "    .dataframe tbody tr th:only-of-type {\n",
       "        vertical-align: middle;\n",
       "    }\n",
       "\n",
       "    .dataframe tbody tr th {\n",
       "        vertical-align: top;\n",
       "    }\n",
       "\n",
       "    .dataframe thead th {\n",
       "        text-align: right;\n",
       "    }\n",
       "</style>\n",
       "<table border=\"1\" class=\"dataframe\">\n",
       "  <thead>\n",
       "    <tr style=\"text-align: right;\">\n",
       "      <th></th>\n",
       "      <th>count</th>\n",
       "      <th>mean</th>\n",
       "      <th>std</th>\n",
       "      <th>min</th>\n",
       "      <th>25%</th>\n",
       "      <th>50%</th>\n",
       "      <th>75%</th>\n",
       "      <th>max</th>\n",
       "    </tr>\n",
       "  </thead>\n",
       "  <tbody>\n",
       "    <tr>\n",
       "      <th>Year</th>\n",
       "      <td>6019.0</td>\n",
       "      <td>2013.358199</td>\n",
       "      <td>3.269742</td>\n",
       "      <td>1998.000000</td>\n",
       "      <td>2011.000000</td>\n",
       "      <td>2014.000000</td>\n",
       "      <td>2016.000000</td>\n",
       "      <td>2.019000e+03</td>\n",
       "    </tr>\n",
       "    <tr>\n",
       "      <th>Kilometers_Driven</th>\n",
       "      <td>6019.0</td>\n",
       "      <td>58738.380296</td>\n",
       "      <td>91268.843206</td>\n",
       "      <td>171.000000</td>\n",
       "      <td>34000.000000</td>\n",
       "      <td>53000.000000</td>\n",
       "      <td>73000.000000</td>\n",
       "      <td>6.500000e+06</td>\n",
       "    </tr>\n",
       "    <tr>\n",
       "      <th>Mileage</th>\n",
       "      <td>6019.0</td>\n",
       "      <td>18.321744</td>\n",
       "      <td>4.171318</td>\n",
       "      <td>4.000000</td>\n",
       "      <td>15.290000</td>\n",
       "      <td>18.200000</td>\n",
       "      <td>21.100000</td>\n",
       "      <td>3.354000e+01</td>\n",
       "    </tr>\n",
       "    <tr>\n",
       "      <th>Engine</th>\n",
       "      <td>6019.0</td>\n",
       "      <td>1620.431135</td>\n",
       "      <td>600.404083</td>\n",
       "      <td>72.000000</td>\n",
       "      <td>1197.000000</td>\n",
       "      <td>1493.000000</td>\n",
       "      <td>1984.000000</td>\n",
       "      <td>5.998000e+03</td>\n",
       "    </tr>\n",
       "    <tr>\n",
       "      <th>Power</th>\n",
       "      <td>6019.0</td>\n",
       "      <td>112.928242</td>\n",
       "      <td>53.635865</td>\n",
       "      <td>34.200000</td>\n",
       "      <td>75.000000</td>\n",
       "      <td>93.700000</td>\n",
       "      <td>138.100000</td>\n",
       "      <td>5.600000e+02</td>\n",
       "    </tr>\n",
       "    <tr>\n",
       "      <th>Seats</th>\n",
       "      <td>6019.0</td>\n",
       "      <td>5.277953</td>\n",
       "      <td>0.803778</td>\n",
       "      <td>2.000000</td>\n",
       "      <td>5.000000</td>\n",
       "      <td>5.000000</td>\n",
       "      <td>5.000000</td>\n",
       "      <td>1.000000e+01</td>\n",
       "    </tr>\n",
       "    <tr>\n",
       "      <th>New_Price</th>\n",
       "      <td>6019.0</td>\n",
       "      <td>21.499855</td>\n",
       "      <td>24.332922</td>\n",
       "      <td>3.910000</td>\n",
       "      <td>7.880000</td>\n",
       "      <td>11.300000</td>\n",
       "      <td>21.770000</td>\n",
       "      <td>3.750000e+02</td>\n",
       "    </tr>\n",
       "    <tr>\n",
       "      <th>Price</th>\n",
       "      <td>6019.0</td>\n",
       "      <td>9.479468</td>\n",
       "      <td>11.187917</td>\n",
       "      <td>0.440000</td>\n",
       "      <td>3.500000</td>\n",
       "      <td>5.640000</td>\n",
       "      <td>9.950000</td>\n",
       "      <td>1.600000e+02</td>\n",
       "    </tr>\n",
       "    <tr>\n",
       "      <th>Car_Age</th>\n",
       "      <td>6019.0</td>\n",
       "      <td>9.641801</td>\n",
       "      <td>3.269742</td>\n",
       "      <td>4.000000</td>\n",
       "      <td>7.000000</td>\n",
       "      <td>9.000000</td>\n",
       "      <td>12.000000</td>\n",
       "      <td>2.500000e+01</td>\n",
       "    </tr>\n",
       "    <tr>\n",
       "      <th>Log_Price</th>\n",
       "      <td>6019.0</td>\n",
       "      <td>1.825095</td>\n",
       "      <td>0.874059</td>\n",
       "      <td>-0.820981</td>\n",
       "      <td>1.252763</td>\n",
       "      <td>1.729884</td>\n",
       "      <td>2.297573</td>\n",
       "      <td>5.075174e+00</td>\n",
       "    </tr>\n",
       "  </tbody>\n",
       "</table>\n",
       "</div>"
      ],
      "text/plain": [
       "                    count          mean           std          min  \\\n",
       "Year               6019.0   2013.358199      3.269742  1998.000000   \n",
       "Kilometers_Driven  6019.0  58738.380296  91268.843206   171.000000   \n",
       "Mileage            6019.0     18.321744      4.171318     4.000000   \n",
       "Engine             6019.0   1620.431135    600.404083    72.000000   \n",
       "Power              6019.0    112.928242     53.635865    34.200000   \n",
       "Seats              6019.0      5.277953      0.803778     2.000000   \n",
       "New_Price          6019.0     21.499855     24.332922     3.910000   \n",
       "Price              6019.0      9.479468     11.187917     0.440000   \n",
       "Car_Age            6019.0      9.641801      3.269742     4.000000   \n",
       "Log_Price          6019.0      1.825095      0.874059    -0.820981   \n",
       "\n",
       "                            25%           50%           75%           max  \n",
       "Year                2011.000000   2014.000000   2016.000000  2.019000e+03  \n",
       "Kilometers_Driven  34000.000000  53000.000000  73000.000000  6.500000e+06  \n",
       "Mileage               15.290000     18.200000     21.100000  3.354000e+01  \n",
       "Engine              1197.000000   1493.000000   1984.000000  5.998000e+03  \n",
       "Power                 75.000000     93.700000    138.100000  5.600000e+02  \n",
       "Seats                  5.000000      5.000000      5.000000  1.000000e+01  \n",
       "New_Price              7.880000     11.300000     21.770000  3.750000e+02  \n",
       "Price                  3.500000      5.640000      9.950000  1.600000e+02  \n",
       "Car_Age                7.000000      9.000000     12.000000  2.500000e+01  \n",
       "Log_Price              1.252763      1.729884      2.297573  5.075174e+00  "
      ]
     },
     "execution_count": 906,
     "metadata": {},
     "output_type": "execute_result"
    }
   ],
   "source": [
    "# Statistical description of the data set with the new numerical variables\n",
    "df.describe().T"
   ]
  },
  {
   "cell_type": "code",
   "execution_count": 907,
   "id": "57a9a85d",
   "metadata": {},
   "outputs": [],
   "source": [
    "# treating outliers in a particular column\n",
    "def treat_outliers(df, col):\n",
    "    \"\"\"\n",
    "    treats outliers in a varaible\n",
    "    col: str, name of the numerical varaible\n",
    "    df: data frame\n",
    "    col: name of the column\n",
    "    \"\"\"\n",
    "    Q1 = df[col].quantile(0.25)  # 25th quantile\n",
    "    Q3 = df[col].quantile(0.75)  # 75th quantile\n",
    "    IQR = Q3 - Q1\n",
    "    Lower_Whisker = Q1 - 1.5 * IQR\n",
    "    Upper_Whisker = Q3 + 1.5 * IQR\n",
    "    df[col] = np.clip(\n",
    "        df[col], Lower_Whisker, Upper_Whisker\n",
    "    )  # all the values samller than Lower_Whisker will be assigned value of Lower_whisker\n",
    "    # and all the values above upper_whisker will be assigned value of upper_Whisker\n",
    "    return df\n",
    "\n",
    "# treating outliers on all columns\n",
    "def treat_outliers_all(df, col_list):\n",
    "    \"\"\"\n",
    "    treat outlier in all numerical varaibles\n",
    "    col_list: list of numerical varaibles\n",
    "    df: data frame\n",
    "    \"\"\"\n",
    "    for c in col_list:\n",
    "        df = treat_outliers(df, c)\n",
    "\n",
    "    return df"
   ]
  },
  {
   "cell_type": "code",
   "execution_count": 908,
   "id": "ee91d14f",
   "metadata": {},
   "outputs": [],
   "source": [
    "# treating the outliers in the columns in the treated_num_cols list\n",
    "df = treat_outliers_all(df, new_num_cols)"
   ]
  },
  {
   "cell_type": "code",
   "execution_count": 909,
   "id": "6f579ab4",
   "metadata": {},
   "outputs": [
    {
     "data": {
      "image/png": "[encoded data removed]",
      "text/plain": [
       "<Figure size 1440x2160 with 10 Axes>"
      ]
     },
     "metadata": {
      "needs_background": "light"
     },
     "output_type": "display_data"
    }
   ],
   "source": [
    "# let's look at the boxplots to see if the outliers have been treated or not\n",
    "plt.figure(figsize=(20, 30))\n",
    "\n",
    "for i, variable in enumerate(new_num_cols):\n",
    "    plt.subplot(5, 4, i + 1)\n",
    "    plt.boxplot(df[variable], whis=1.5)\n",
    "    #plt.tight_layout()\n",
    "    plt.title(variable)\n",
    "\n",
    "plt.savefig('out_treated.png')\n",
    "plt.show()"
   ]
  },
  {
   "cell_type": "markdown",
   "id": "54429808",
   "metadata": {},
   "source": [
    "All outliers have been sucessfully treated"
   ]
  },
  {
   "cell_type": "markdown",
   "id": "f75933b0",
   "metadata": {},
   "source": [
    "### Building the Model"
   ]
  },
  {
   "cell_type": "markdown",
   "id": "b523f000",
   "metadata": {},
   "source": [
    "**Select the Features and the Target**"
   ]
  },
  {
   "cell_type": "code",
   "execution_count": 910,
   "id": "2810357d",
   "metadata": {},
   "outputs": [],
   "source": [
    "#training data (we drop the target column) and other multicolinear or unnecessary columns\n",
    "X = df.drop(['Year', 'New_Price', 'Price', 'Log_Price', 'Name', 'Brand_Name', 'Engine'], axis=1) \n",
    "y = df['Log_Price'] #target data"
   ]
  },
  {
   "cell_type": "markdown",
   "id": "9e84c0a1",
   "metadata": {},
   "source": [
    "**Creating dummy variables**"
   ]
  },
  {
   "cell_type": "code",
   "execution_count": 911,
   "id": "d8c9b928",
   "metadata": {},
   "outputs": [],
   "source": [
    "# This is a method of one hot encoding categorical variables to convert them to numerical variables\n",
    "X = pd.get_dummies(X, drop_first=True)"
   ]
  },
  {
   "cell_type": "code",
   "execution_count": 912,
   "id": "5995bc6c",
   "metadata": {},
   "outputs": [
    {
     "data": {
      "text/plain": [
       "(6019, 25)"
      ]
     },
     "execution_count": 912,
     "metadata": {},
     "output_type": "execute_result"
    }
   ],
   "source": [
    "#Getting the dimension of the X data after creating dummy variables\n",
    "X.shape"
   ]
  },
  {
   "cell_type": "markdown",
   "id": "c3e418f5",
   "metadata": {},
   "source": [
    "**Split data into train and test sets**"
   ]
  },
  {
   "cell_type": "code",
   "execution_count": 913,
   "id": "38500775",
   "metadata": {},
   "outputs": [],
   "source": [
    "# splitting the data into train and test sets. We will use 80% to train and 20% to test\n",
    "x_train, x_test, y_train, y_test = train_test_split(X, y, random_state=0, test_size=0.2)"
   ]
  },
  {
   "cell_type": "markdown",
   "id": "6b50158c",
   "metadata": {},
   "source": [
    "**Data normalization**"
   ]
  },
  {
   "cell_type": "code",
   "execution_count": 914,
   "id": "f6b121ba",
   "metadata": {},
   "outputs": [],
   "source": [
    "# create an instance of the scaler\n",
    "scaler = StandardScaler() #using standard scaler\n",
    "\n",
    "# scale the train data\n",
    "x_train_sc = scaler.fit_transform(x_train)\n",
    "\n",
    "# scale the test data\n",
    "x_test_sc = scaler.transform(x_test)"
   ]
  },
  {
   "cell_type": "markdown",
   "id": "8b431e89",
   "metadata": {},
   "source": [
    "**Fit the Linear Regression Model**"
   ]
  },
  {
   "cell_type": "code",
   "execution_count": 915,
   "id": "9f3cb937",
   "metadata": {},
   "outputs": [
    {
     "data": {
      "text/plain": [
       "LinearRegression()"
      ]
     },
     "execution_count": 915,
     "metadata": {},
     "output_type": "execute_result"
    }
   ],
   "source": [
    "# create an instance of the model\n",
    "lin_reg = LinearRegression()\n",
    "\n",
    "# train the model\n",
    "lin_reg.fit(x_train_sc, y_train)"
   ]
  },
  {
   "cell_type": "code",
   "execution_count": 916,
   "id": "f5352329",
   "metadata": {},
   "outputs": [
    {
     "data": {
      "text/plain": [
       "array([-6.09786793e-02, -8.33332118e-02,  4.82741474e-01,  2.30418882e+10,\n",
       "       -3.69934336e-01,  3.60080141e-02,  5.04779123e-03,  2.41780374e-02,\n",
       "       -1.79729704e-02,  4.09556447e-02, -1.90205496e-02, -1.22420903e-02,\n",
       "       -7.71498006e-02, -2.30350436e-02, -1.70162511e-02, -8.49607060e+10,\n",
       "       -1.65876348e+12, -5.87179262e-03, -8.48211435e+10, -9.54075198e-02,\n",
       "        2.20573070e-03, -2.82251597e-02, -1.93605602e-02,  1.79277399e+10,\n",
       "        1.65876348e+12])"
      ]
     },
     "execution_count": 916,
     "metadata": {},
     "output_type": "execute_result"
    }
   ],
   "source": [
    "lin_reg.coef_"
   ]
  },
  {
   "cell_type": "markdown",
   "id": "b3ef57cd",
   "metadata": {},
   "source": [
    "**Performance Metrics**"
   ]
  },
  {
   "cell_type": "code",
   "execution_count": 917,
   "id": "4fb23f98",
   "metadata": {},
   "outputs": [],
   "source": [
    "# function to compute adjusted R-squared\n",
    "def adj_r2_score(predictors, targets, predictions):\n",
    "    \"\"\"\n",
    "    predictors: independent variables in the data\n",
    "    targets: real values of the dependent variable\n",
    "    predictions: predicted values of the dependent variable\n",
    "    \"\"\"\n",
    "    r2 = r2_score(targets, predictions)\n",
    "    n = predictors.shape[0] #number of rows in the data\n",
    "    k = predictors.shape[1] #number of columns in the data\n",
    "    return 1 - ((1 - r2) * (n - 1) / (n - k - 1)) #formular for adjusted r2\n",
    "\n",
    "# function to compute MAPE\n",
    "def mape_score(targets, predictions):\n",
    "    return np.mean(np.abs(targets - predictions) / targets) * 100\n",
    "\n",
    "\n",
    "# function to compute different metrics to check performance of a regression model\n",
    "def model_performance_regression(model, predictors, target):\n",
    "    \"\"\"\n",
    "    Function to compute different metrics to check regression model performance\n",
    "\n",
    "    model: regressor\n",
    "    predictors: independent variables\n",
    "    target: dependent variable\n",
    "    \"\"\"\n",
    "\n",
    "    # predicting using the independent variables\n",
    "    pred = model.predict(predictors)\n",
    "\n",
    "    r2 = r2_score(target, pred)  # to compute R-squared\n",
    "    adjr2 = adj_r2_score(predictors, target, pred)  # to compute adjusted R-squared\n",
    "    rmse = np.sqrt(mean_squared_error(target, pred))  # to compute RMSE\n",
    "    mae = mean_absolute_error(target, pred)  # to compute MAE\n",
    "    mape = mape_score(target, pred)  # to compute MAPE\n",
    "\n",
    "    # creating a dataframe of metrics\n",
    "    df_perf = pd.DataFrame(\n",
    "        {\n",
    "            \"Root_Mean_Squared_Error\": rmse,\n",
    "            \"Mean_Absolute_Error\": mae,\n",
    "            \"R_squared\": r2,\n",
    "            \"Adjusted_R_squared\": adjr2,\n",
    "            \"Mean_Absolute_Percentage_Error\": mape\n",
    "        },\n",
    "        index=[0],\n",
    "    )\n",
    "\n",
    "    return df_perf"
   ]
  },
  {
   "cell_type": "markdown",
   "id": "3200038b",
   "metadata": {},
   "source": [
    "**Model performance on the train set**"
   ]
  },
  {
   "cell_type": "code",
   "execution_count": 918,
   "id": "02e456f6",
   "metadata": {},
   "outputs": [
    {
     "data": {
      "text/html": [
       "<div>\n",
       "<style scoped>\n",
       "    .dataframe tbody tr th:only-of-type {\n",
       "        vertical-align: middle;\n",
       "    }\n",
       "\n",
       "    .dataframe tbody tr th {\n",
       "        vertical-align: top;\n",
       "    }\n",
       "\n",
       "    .dataframe thead th {\n",
       "        text-align: right;\n",
       "    }\n",
       "</style>\n",
       "<table border=\"1\" class=\"dataframe\">\n",
       "  <thead>\n",
       "    <tr style=\"text-align: right;\">\n",
       "      <th></th>\n",
       "      <th>Root_Mean_Squared_Error</th>\n",
       "      <th>Mean_Absolute_Error</th>\n",
       "      <th>R_squared</th>\n",
       "      <th>Adjusted_R_squared</th>\n",
       "      <th>Mean_Absolute_Percentage_Error</th>\n",
       "    </tr>\n",
       "  </thead>\n",
       "  <tbody>\n",
       "    <tr>\n",
       "      <th>0</th>\n",
       "      <td>0.279946</td>\n",
       "      <td>0.209087</td>\n",
       "      <td>0.893797</td>\n",
       "      <td>0.893242</td>\n",
       "      <td>inf</td>\n",
       "    </tr>\n",
       "  </tbody>\n",
       "</table>\n",
       "</div>"
      ],
      "text/plain": [
       "   Root_Mean_Squared_Error  Mean_Absolute_Error  R_squared  \\\n",
       "0                 0.279946             0.209087   0.893797   \n",
       "\n",
       "   Adjusted_R_squared  Mean_Absolute_Percentage_Error  \n",
       "0            0.893242                             inf  "
      ]
     },
     "execution_count": 918,
     "metadata": {},
     "output_type": "execute_result"
    }
   ],
   "source": [
    "# checking the performance on the train set\n",
    "model_train_pf = model_performance_regression(lin_reg, x_train_sc, y_train)\n",
    "model_train_pf"
   ]
  },
  {
   "cell_type": "markdown",
   "id": "3d3c229b",
   "metadata": {},
   "source": [
    "**Model performance on the test set**"
   ]
  },
  {
   "cell_type": "code",
   "execution_count": 919,
   "id": "4045a1c4",
   "metadata": {},
   "outputs": [
    {
     "data": {
      "text/html": [
       "<div>\n",
       "<style scoped>\n",
       "    .dataframe tbody tr th:only-of-type {\n",
       "        vertical-align: middle;\n",
       "    }\n",
       "\n",
       "    .dataframe tbody tr th {\n",
       "        vertical-align: top;\n",
       "    }\n",
       "\n",
       "    .dataframe thead th {\n",
       "        text-align: right;\n",
       "    }\n",
       "</style>\n",
       "<table border=\"1\" class=\"dataframe\">\n",
       "  <thead>\n",
       "    <tr style=\"text-align: right;\">\n",
       "      <th></th>\n",
       "      <th>Root_Mean_Squared_Error</th>\n",
       "      <th>Mean_Absolute_Error</th>\n",
       "      <th>R_squared</th>\n",
       "      <th>Adjusted_R_squared</th>\n",
       "      <th>Mean_Absolute_Percentage_Error</th>\n",
       "    </tr>\n",
       "  </thead>\n",
       "  <tbody>\n",
       "    <tr>\n",
       "      <th>0</th>\n",
       "      <td>0.281047</td>\n",
       "      <td>0.208046</td>\n",
       "      <td>0.894177</td>\n",
       "      <td>0.891931</td>\n",
       "      <td>inf</td>\n",
       "    </tr>\n",
       "  </tbody>\n",
       "</table>\n",
       "</div>"
      ],
      "text/plain": [
       "   Root_Mean_Squared_Error  Mean_Absolute_Error  R_squared  \\\n",
       "0                 0.281047             0.208046   0.894177   \n",
       "\n",
       "   Adjusted_R_squared  Mean_Absolute_Percentage_Error  \n",
       "0            0.891931                             inf  "
      ]
     },
     "execution_count": 919,
     "metadata": {},
     "output_type": "execute_result"
    }
   ],
   "source": [
    "# checking the performance on the test set\n",
    "model_test_pf = model_performance_regression(lin_reg, x_test_sc, y_test)\n",
    "model_test_pf"
   ]
  },
  {
   "cell_type": "markdown",
   "id": "24735d7b",
   "metadata": {},
   "source": [
    "- From the above performance on the train and test data, it can be observed that the model generalizes well because the train accuracy is close to the test accuracy.\n",
    "- It can be interpreted that when this model is fed new data similar to the one used to train it, it would accurately predict the price of the car approx. 89% of the time.\n",
    "- The RMSE is 27.9 on the train data and 28.1 on the test data\n",
    "- The MAE is 20.9 on the train data and 20.8 on the test data\n",
    "- The MAPE on both the test and train data is infinite. This is caused by the negative value in the log_price variable"
   ]
  },
  {
   "cell_type": "markdown",
   "id": "c163c5a1",
   "metadata": {},
   "source": [
    "### Ridge Regression"
   ]
  },
  {
   "cell_type": "code",
   "execution_count": 920,
   "id": "917a4b79",
   "metadata": {},
   "outputs": [
    {
     "data": {
      "text/plain": [
       "Ridge(alpha=2.0)"
      ]
     },
     "execution_count": 920,
     "metadata": {},
     "output_type": "execute_result"
    }
   ],
   "source": [
    "# create an instance of the model and setting alpha to 2.0\n",
    "ridge = Ridge(alpha=2.0)\n",
    "\n",
    "# train the model\n",
    "ridge.fit(x_train_sc, y_train)"
   ]
  },
  {
   "cell_type": "code",
   "execution_count": 921,
   "id": "3cb55859",
   "metadata": {},
   "outputs": [
    {
     "data": {
      "text/html": [
       "<div>\n",
       "<style scoped>\n",
       "    .dataframe tbody tr th:only-of-type {\n",
       "        vertical-align: middle;\n",
       "    }\n",
       "\n",
       "    .dataframe tbody tr th {\n",
       "        vertical-align: top;\n",
       "    }\n",
       "\n",
       "    .dataframe thead th {\n",
       "        text-align: right;\n",
       "    }\n",
       "</style>\n",
       "<table border=\"1\" class=\"dataframe\">\n",
       "  <thead>\n",
       "    <tr style=\"text-align: right;\">\n",
       "      <th></th>\n",
       "      <th>Root_Mean_Squared_Error</th>\n",
       "      <th>Mean_Absolute_Error</th>\n",
       "      <th>R_squared</th>\n",
       "      <th>Adjusted_R_squared</th>\n",
       "      <th>Mean_Absolute_Percentage_Error</th>\n",
       "    </tr>\n",
       "  </thead>\n",
       "  <tbody>\n",
       "    <tr>\n",
       "      <th>0</th>\n",
       "      <td>0.279941</td>\n",
       "      <td>0.209082</td>\n",
       "      <td>0.893801</td>\n",
       "      <td>0.893246</td>\n",
       "      <td>inf</td>\n",
       "    </tr>\n",
       "  </tbody>\n",
       "</table>\n",
       "</div>"
      ],
      "text/plain": [
       "   Root_Mean_Squared_Error  Mean_Absolute_Error  R_squared  \\\n",
       "0                 0.279941             0.209082   0.893801   \n",
       "\n",
       "   Adjusted_R_squared  Mean_Absolute_Percentage_Error  \n",
       "0            0.893246                             inf  "
      ]
     },
     "execution_count": 921,
     "metadata": {},
     "output_type": "execute_result"
    }
   ],
   "source": [
    "# checking the performance on the train set\n",
    "ridge_train_pf = model_performance_regression(ridge, x_train_sc, y_train)\n",
    "ridge_train_pf"
   ]
  },
  {
   "cell_type": "code",
   "execution_count": 922,
   "id": "c539b981",
   "metadata": {},
   "outputs": [
    {
     "data": {
      "text/html": [
       "<div>\n",
       "<style scoped>\n",
       "    .dataframe tbody tr th:only-of-type {\n",
       "        vertical-align: middle;\n",
       "    }\n",
       "\n",
       "    .dataframe tbody tr th {\n",
       "        vertical-align: top;\n",
       "    }\n",
       "\n",
       "    .dataframe thead th {\n",
       "        text-align: right;\n",
       "    }\n",
       "</style>\n",
       "<table border=\"1\" class=\"dataframe\">\n",
       "  <thead>\n",
       "    <tr style=\"text-align: right;\">\n",
       "      <th></th>\n",
       "      <th>Root_Mean_Squared_Error</th>\n",
       "      <th>Mean_Absolute_Error</th>\n",
       "      <th>R_squared</th>\n",
       "      <th>Adjusted_R_squared</th>\n",
       "      <th>Mean_Absolute_Percentage_Error</th>\n",
       "    </tr>\n",
       "  </thead>\n",
       "  <tbody>\n",
       "    <tr>\n",
       "      <th>0</th>\n",
       "      <td>0.280941</td>\n",
       "      <td>0.208005</td>\n",
       "      <td>0.894256</td>\n",
       "      <td>0.892012</td>\n",
       "      <td>inf</td>\n",
       "    </tr>\n",
       "  </tbody>\n",
       "</table>\n",
       "</div>"
      ],
      "text/plain": [
       "   Root_Mean_Squared_Error  Mean_Absolute_Error  R_squared  \\\n",
       "0                 0.280941             0.208005   0.894256   \n",
       "\n",
       "   Adjusted_R_squared  Mean_Absolute_Percentage_Error  \n",
       "0            0.892012                             inf  "
      ]
     },
     "execution_count": 922,
     "metadata": {},
     "output_type": "execute_result"
    }
   ],
   "source": [
    "# checking the performance on the test set\n",
    "ridge_train_pf = model_performance_regression(ridge, x_test_sc, y_test)\n",
    "ridge_train_pf"
   ]
  },
  {
   "cell_type": "markdown",
   "id": "6757e7b3",
   "metadata": {},
   "source": [
    "The values for the ridge regression are similar to that of the Linear regression for both test and train data."
   ]
  },
  {
   "cell_type": "markdown",
   "id": "0a38a306",
   "metadata": {},
   "source": [
    "From the ridge regression, it can be interpreted that when this model is fed new data similar to the one used to train it, it would accurately predict the price of the car approx. 89% of the time.\n",
    "- The RMSE is 27.9 on the train data and 28.1 on the test data\n",
    "- The MAE is 20.9 on the train data and 20.8 on the test data\n",
    "- The MAPE on both the test and train data is infinite. This is caused by the negative value in the log_price variable"
   ]
  },
  {
   "cell_type": "markdown",
   "id": "a81e70ca",
   "metadata": {},
   "source": [
    "### Forward Feature Selection"
   ]
  },
  {
   "cell_type": "code",
   "execution_count": 923,
   "id": "94ced9f4",
   "metadata": {},
   "outputs": [
    {
     "name": "stderr",
     "output_type": "stream",
     "text": [
      "[Parallel(n_jobs=-1)]: Using backend LokyBackend with 4 concurrent workers.\n",
      "[Parallel(n_jobs=-1)]: Done  25 out of  25 | elapsed:    6.8s finished\n",
      "\n",
      "[2023-02-05 23:16:08] Features: 1/25 -- score: 0.6120524562284417[Parallel(n_jobs=-1)]: Using backend LokyBackend with 4 concurrent workers.\n",
      "[Parallel(n_jobs=-1)]: Done  24 out of  24 | elapsed:    0.2s finished\n",
      "\n",
      "[2023-02-05 23:16:09] Features: 2/25 -- score: 0.8458781893361783[Parallel(n_jobs=-1)]: Using backend LokyBackend with 4 concurrent workers.\n",
      "[Parallel(n_jobs=-1)]: Done  23 out of  23 | elapsed:    0.3s finished\n",
      "\n",
      "[2023-02-05 23:16:09] Features: 3/25 -- score: 0.8621268091744442[Parallel(n_jobs=-1)]: Using backend LokyBackend with 4 concurrent workers.\n",
      "[Parallel(n_jobs=-1)]: Done  22 out of  22 | elapsed:    0.2s finished\n",
      "\n",
      "[2023-02-05 23:16:09] Features: 4/25 -- score: 0.8707212007867013[Parallel(n_jobs=-1)]: Using backend LokyBackend with 4 concurrent workers.\n",
      "[Parallel(n_jobs=-1)]: Done  14 out of  21 | elapsed:    0.2s remaining:    0.1s\n",
      "[Parallel(n_jobs=-1)]: Done  21 out of  21 | elapsed:    0.2s finished\n",
      "\n",
      "[2023-02-05 23:16:09] Features: 5/25 -- score: 0.877061634942985[Parallel(n_jobs=-1)]: Using backend LokyBackend with 4 concurrent workers.\n",
      "[Parallel(n_jobs=-1)]: Done  20 out of  20 | elapsed:    0.2s finished\n",
      "\n",
      "[2023-02-05 23:16:10] Features: 6/25 -- score: 0.8808677129786331[Parallel(n_jobs=-1)]: Using backend LokyBackend with 4 concurrent workers.\n",
      "[Parallel(n_jobs=-1)]: Done  12 out of  19 | elapsed:    0.1s remaining:    0.1s\n",
      "[Parallel(n_jobs=-1)]: Done  19 out of  19 | elapsed:    0.2s finished\n",
      "\n",
      "[2023-02-05 23:16:10] Features: 7/25 -- score: 0.8836170794937536[Parallel(n_jobs=-1)]: Using backend LokyBackend with 4 concurrent workers.\n",
      "[Parallel(n_jobs=-1)]: Done  18 out of  18 | elapsed:    0.2s finished\n",
      "\n",
      "[2023-02-05 23:16:10] Features: 8/25 -- score: 0.8866092763415783[Parallel(n_jobs=-1)]: Using backend LokyBackend with 4 concurrent workers.\n",
      "[Parallel(n_jobs=-1)]: Done  10 out of  17 | elapsed:    0.1s remaining:    0.1s\n",
      "[Parallel(n_jobs=-1)]: Done  17 out of  17 | elapsed:    0.2s finished\n",
      "\n",
      "[2023-02-05 23:16:10] Features: 9/25 -- score: 0.8886435134002996[Parallel(n_jobs=-1)]: Using backend LokyBackend with 4 concurrent workers.\n",
      "[Parallel(n_jobs=-1)]: Done  16 out of  16 | elapsed:    0.2s finished\n",
      "\n",
      "[2023-02-05 23:16:10] Features: 10/25 -- score: 0.8904031327652433[Parallel(n_jobs=-1)]: Using backend LokyBackend with 4 concurrent workers.\n",
      "[Parallel(n_jobs=-1)]: Done  15 out of  15 | elapsed:    0.2s finished\n",
      "\n",
      "[2023-02-05 23:16:11] Features: 11/25 -- score: 0.8910742127041363[Parallel(n_jobs=-1)]: Using backend LokyBackend with 4 concurrent workers.\n",
      "[Parallel(n_jobs=-1)]: Done  14 out of  14 | elapsed:    0.2s finished\n",
      "\n",
      "[2023-02-05 23:16:11] Features: 12/25 -- score: 0.891464033217176[Parallel(n_jobs=-1)]: Using backend LokyBackend with 4 concurrent workers.\n",
      "[Parallel(n_jobs=-1)]: Done  13 out of  13 | elapsed:    0.2s remaining:    0.0s\n",
      "[Parallel(n_jobs=-1)]: Done  13 out of  13 | elapsed:    0.2s finished\n",
      "\n",
      "[2023-02-05 23:16:11] Features: 13/25 -- score: 0.8919008712377963[Parallel(n_jobs=-1)]: Using backend LokyBackend with 4 concurrent workers.\n",
      "[Parallel(n_jobs=-1)]: Done  12 out of  12 | elapsed:    0.2s remaining:    0.0s\n",
      "[Parallel(n_jobs=-1)]: Done  12 out of  12 | elapsed:    0.2s finished\n",
      "\n",
      "[2023-02-05 23:16:11] Features: 14/25 -- score: 0.8921387877437448[Parallel(n_jobs=-1)]: Using backend LokyBackend with 4 concurrent workers.\n",
      "[Parallel(n_jobs=-1)]: Done  11 out of  11 | elapsed:    0.2s finished\n",
      "\n",
      "[2023-02-05 23:16:11] Features: 15/25 -- score: 0.8921586692221408[Parallel(n_jobs=-1)]: Using backend LokyBackend with 4 concurrent workers.\n",
      "[Parallel(n_jobs=-1)]: Done  10 out of  10 | elapsed:    0.2s finished\n",
      "\n",
      "[2023-02-05 23:16:12] Features: 16/25 -- score: 0.8921771173633815[Parallel(n_jobs=-1)]: Using backend LokyBackend with 4 concurrent workers.\n",
      "[Parallel(n_jobs=-1)]: Done   7 out of   9 | elapsed:    0.1s remaining:    0.0s\n",
      "[Parallel(n_jobs=-1)]: Done   9 out of   9 | elapsed:    0.1s finished\n",
      "\n",
      "[2023-02-05 23:16:12] Features: 17/25 -- score: 0.8921893807380139[Parallel(n_jobs=-1)]: Using backend LokyBackend with 4 concurrent workers.\n",
      "[Parallel(n_jobs=-1)]: Done   6 out of   8 | elapsed:    0.1s remaining:    0.0s\n",
      "[Parallel(n_jobs=-1)]: Done   8 out of   8 | elapsed:    0.1s finished\n",
      "\n",
      "[2023-02-05 23:16:12] Features: 18/25 -- score: 0.8922023741980055[Parallel(n_jobs=-1)]: Using backend LokyBackend with 4 concurrent workers.\n",
      "[Parallel(n_jobs=-1)]: Done   4 out of   7 | elapsed:    0.1s remaining:    0.0s\n",
      "[Parallel(n_jobs=-1)]: Done   7 out of   7 | elapsed:    0.1s finished\n",
      "\n",
      "[2023-02-05 23:16:12] Features: 19/25 -- score: 0.8922040346269429[Parallel(n_jobs=-1)]: Using backend LokyBackend with 4 concurrent workers.\n",
      "[Parallel(n_jobs=-1)]: Done   3 out of   6 | elapsed:    0.1s remaining:    0.1s\n",
      "[Parallel(n_jobs=-1)]: Done   6 out of   6 | elapsed:    0.1s finished\n",
      "\n",
      "[2023-02-05 23:16:12] Features: 20/25 -- score: 0.8922333912729531[Parallel(n_jobs=-1)]: Using backend LokyBackend with 4 concurrent workers.\n",
      "[Parallel(n_jobs=-1)]: Done   5 out of   5 | elapsed:    0.1s finished\n",
      "\n",
      "[2023-02-05 23:16:12] Features: 21/25 -- score: 0.8922600983734885[Parallel(n_jobs=-1)]: Using backend LokyBackend with 4 concurrent workers.\n",
      "[Parallel(n_jobs=-1)]: Done   4 out of   4 | elapsed:    0.1s finished\n",
      "\n",
      "[2023-02-05 23:16:12] Features: 22/25 -- score: 0.8922600983734885[Parallel(n_jobs=-1)]: Using backend LokyBackend with 4 concurrent workers.\n",
      "[Parallel(n_jobs=-1)]: Done   3 out of   3 | elapsed:    0.1s finished\n",
      "\n",
      "[2023-02-05 23:16:12] Features: 23/25 -- score: 0.8922600983734885[Parallel(n_jobs=-1)]: Using backend LokyBackend with 4 concurrent workers.\n",
      "[Parallel(n_jobs=-1)]: Done   2 out of   2 | elapsed:    0.0s finished\n",
      "\n",
      "[2023-02-05 23:16:12] Features: 24/25 -- score: 0.8921880290788593[Parallel(n_jobs=-1)]: Using backend LokyBackend with 4 concurrent workers.\n",
      "[Parallel(n_jobs=-1)]: Done   1 out of   1 | elapsed:    0.0s finished\n",
      "\n",
      "[2023-02-05 23:16:12] Features: 25/25 -- score: 0.892149019924805"
     ]
    },
    {
     "data": {
      "text/plain": [
       "SequentialFeatureSelector(estimator=LinearRegression(), k_features=(25, 25),\n",
       "                          n_jobs=-1, scoring='r2', verbose=2)"
      ]
     },
     "execution_count": 923,
     "metadata": {},
     "output_type": "execute_result"
    }
   ],
   "source": [
    "# import the SequentialFeatureSelector from the feature_selection module\n",
    "from mlxtend.feature_selection import SequentialFeatureSelector\n",
    "\n",
    "# create an instance of the sequential feature selector\n",
    "# estimator is the model (we've selected the linear regression model)\n",
    "# k_features let's you choose how many variables you want to use (we chose use all variables in the code below)...\n",
    "# ... because we are doing the forward feature selection.\n",
    "# for the backward selection, the \"forward\" hyperparameter is set to \"False\"\n",
    "# n_jobs let's you choose how many cores of your computer you want to use to run the program. -1 means use all\n",
    "# verbose helps to print the process on the screen\n",
    "sfs = SequentialFeatureSelector(estimator=lin_reg, k_features=x_train.shape[1], n_jobs=-1, verbose=2)\n",
    "\n",
    "# build the sequential feature selector\n",
    "sfs.fit(x_train_sc, y_train)"
   ]
  },
  {
   "cell_type": "markdown",
   "id": "60cf4c89",
   "metadata": {},
   "source": [
    "**Plotting the performance**"
   ]
  },
  {
   "cell_type": "code",
   "execution_count": 924,
   "id": "496c206f",
   "metadata": {},
   "outputs": [
    {
     "data": {
      "image/png": "[encoded data removed]",
      "text/plain": [
       "<Figure size 864x360 with 1 Axes>"
      ]
     },
     "metadata": {
      "needs_background": "light"
     },
     "output_type": "display_data"
    }
   ],
   "source": [
    "# importing the plotting function\n",
    "from mlxtend.plotting import plot_sequential_feature_selection as plot_sfs\n",
    "\n",
    "# plotting the standard error \n",
    "fig1 = plot_sfs(sfs.get_metric_dict(), kind=\"std_err\", figsize = (12, 5))\n",
    "plt.xticks(rotation = 90)\n",
    "plt.show()"
   ]
  },
  {
   "cell_type": "markdown",
   "id": "aa42afdc",
   "metadata": {},
   "source": [
    "From the graph above, the performance of the model improved drastically after just 2 variables were added, but gradually continued to improve from then till the addition of the 10th feature, after which improvement was not significant."
   ]
  },
  {
   "cell_type": "markdown",
   "id": "c9ec47ae",
   "metadata": {},
   "source": [
    "**Rebuilding the Model with just 10 features**"
   ]
  },
  {
   "cell_type": "code",
   "execution_count": 925,
   "id": "7c5d5ab5",
   "metadata": {},
   "outputs": [
    {
     "name": "stderr",
     "output_type": "stream",
     "text": [
      "[Parallel(n_jobs=-1)]: Using backend LokyBackend with 4 concurrent workers.\n",
      "[Parallel(n_jobs=-1)]: Done  18 out of  25 | elapsed:    0.2s remaining:    0.1s\n",
      "[Parallel(n_jobs=-1)]: Done  25 out of  25 | elapsed:    0.3s finished\n",
      "\n",
      "[2023-02-05 23:16:13] Features: 1/10 -- score: 0.6120524562284417[Parallel(n_jobs=-1)]: Using backend LokyBackend with 4 concurrent workers.\n",
      "[Parallel(n_jobs=-1)]: Done  24 out of  24 | elapsed:    0.2s finished\n",
      "\n",
      "[2023-02-05 23:16:13] Features: 2/10 -- score: 0.8458781893361783[Parallel(n_jobs=-1)]: Using backend LokyBackend with 4 concurrent workers.\n",
      "[Parallel(n_jobs=-1)]: Done  23 out of  23 | elapsed:    0.2s finished\n",
      "\n",
      "[2023-02-05 23:16:13] Features: 3/10 -- score: 0.8621268091744442[Parallel(n_jobs=-1)]: Using backend LokyBackend with 4 concurrent workers.\n",
      "[Parallel(n_jobs=-1)]: Done  22 out of  22 | elapsed:    0.2s finished\n",
      "\n",
      "[2023-02-05 23:16:13] Features: 4/10 -- score: 0.8707212007867013[Parallel(n_jobs=-1)]: Using backend LokyBackend with 4 concurrent workers.\n",
      "[Parallel(n_jobs=-1)]: Done  21 out of  21 | elapsed:    0.2s finished\n",
      "\n",
      "[2023-02-05 23:16:14] Features: 5/10 -- score: 0.877061634942985[Parallel(n_jobs=-1)]: Using backend LokyBackend with 4 concurrent workers.\n",
      "[Parallel(n_jobs=-1)]: Done  20 out of  20 | elapsed:    0.2s finished\n",
      "\n",
      "[2023-02-05 23:16:14] Features: 6/10 -- score: 0.8808677129786331[Parallel(n_jobs=-1)]: Using backend LokyBackend with 4 concurrent workers.\n",
      "[Parallel(n_jobs=-1)]: Done  12 out of  19 | elapsed:    0.3s remaining:    0.1s\n",
      "[Parallel(n_jobs=-1)]: Done  19 out of  19 | elapsed:    0.3s finished\n",
      "\n",
      "[2023-02-05 23:16:14] Features: 7/10 -- score: 0.8836170794937536[Parallel(n_jobs=-1)]: Using backend LokyBackend with 4 concurrent workers.\n",
      "[Parallel(n_jobs=-1)]: Done  18 out of  18 | elapsed:    0.2s finished\n",
      "\n",
      "[2023-02-05 23:16:14] Features: 8/10 -- score: 0.8866092763415783[Parallel(n_jobs=-1)]: Using backend LokyBackend with 4 concurrent workers.\n",
      "[Parallel(n_jobs=-1)]: Done  10 out of  17 | elapsed:    0.3s remaining:    0.2s\n",
      "[Parallel(n_jobs=-1)]: Done  17 out of  17 | elapsed:    0.3s finished\n",
      "\n",
      "[2023-02-05 23:16:15] Features: 9/10 -- score: 0.8886435134002996[Parallel(n_jobs=-1)]: Using backend LokyBackend with 4 concurrent workers.\n",
      "[Parallel(n_jobs=-1)]: Done  16 out of  16 | elapsed:    0.3s finished\n",
      "\n",
      "[2023-02-05 23:16:15] Features: 10/10 -- score: 0.8904031327652433"
     ]
    },
    {
     "data": {
      "text/plain": [
       "SequentialFeatureSelector(estimator=LinearRegression(), k_features=(10, 10),\n",
       "                          n_jobs=-1, scoring='r2', verbose=2)"
      ]
     },
     "execution_count": 925,
     "metadata": {},
     "output_type": "execute_result"
    }
   ],
   "source": [
    "# create an instance of the sequential feature selector\n",
    "sfs = SequentialFeatureSelector(estimator=lin_reg, k_features=10, n_jobs=-1, verbose=2)\n",
    "\n",
    "# build the sequential feature selector\n",
    "sfs.fit(x_train_sc, y_train)"
   ]
  },
  {
   "cell_type": "markdown",
   "id": "9997b111",
   "metadata": {},
   "source": [
    "**Selecting the important features**"
   ]
  },
  {
   "cell_type": "code",
   "execution_count": 926,
   "id": "4425ea43",
   "metadata": {},
   "outputs": [
    {
     "name": "stdout",
     "output_type": "stream",
     "text": [
      "(0, 1, 2, 4, 5, 7, 9, 12, 15, 19)\n"
     ]
    }
   ],
   "source": [
    "# k_feature_indx_ is the index of the important variables in the dataset\n",
    "print(sfs.k_feature_idx_)"
   ]
  },
  {
   "cell_type": "code",
   "execution_count": 927,
   "id": "41cd3c8b",
   "metadata": {},
   "outputs": [
    {
     "name": "stdout",
     "output_type": "stream",
     "text": [
      "[0, 1, 2, 4, 5, 7, 9, 12, 15, 19]\n"
     ]
    }
   ],
   "source": [
    "# Converting the tuple of the indexes to a list\n",
    "feat_cols = list(sfs.k_feature_idx_)\n",
    "print(feat_cols)"
   ]
  },
  {
   "cell_type": "code",
   "execution_count": 928,
   "id": "95ea257e",
   "metadata": {},
   "outputs": [
    {
     "data": {
      "text/plain": [
       "Index(['Kilometers_Driven', 'Mileage', 'Power', 'Car_Age',\n",
       "       'Location_Bangalore', 'Location_Coimbatore', 'Location_Hyderabad',\n",
       "       'Location_Kolkata', 'Fuel_Type_Diesel', 'Transmission_Manual'],\n",
       "      dtype='object')"
      ]
     },
     "execution_count": 928,
     "metadata": {},
     "output_type": "execute_result"
    }
   ],
   "source": [
    "# Look at the most important features\n",
    "# Passing in the index of the important variables to get the names of the variables\n",
    "x_train.columns[feat_cols]"
   ]
  },
  {
   "cell_type": "code",
   "execution_count": 929,
   "id": "1b9d898c",
   "metadata": {},
   "outputs": [],
   "source": [
    "# select the important features in training and test sets\n",
    "x_train_new = x_train[x_train.columns[feat_cols]] #This gives us the actual data contained in the train columns\n",
    "x_test_new = x_test[x_train.columns[feat_cols]] #This gives us the actual data contained in the test columns"
   ]
  },
  {
   "cell_type": "code",
   "execution_count": 930,
   "id": "a7f557c4",
   "metadata": {},
   "outputs": [],
   "source": [
    "# Normalise the new train and test datasets\n",
    "scaler_new = StandardScaler()\n",
    "\n",
    "# scale the train and test data sets\n",
    "x_train_new_sc = scaler_new.fit_transform(x_train_new)\n",
    "x_test_new_sc = scaler_new.transform(x_test_new)"
   ]
  },
  {
   "cell_type": "markdown",
   "id": "4c86c0d4",
   "metadata": {},
   "source": [
    "**Rebuilding the Linear Regression Model**"
   ]
  },
  {
   "cell_type": "code",
   "execution_count": 931,
   "id": "399f0ba0",
   "metadata": {},
   "outputs": [
    {
     "data": {
      "text/plain": [
       "LinearRegression()"
      ]
     },
     "execution_count": 931,
     "metadata": {},
     "output_type": "execute_result"
    }
   ],
   "source": [
    "# create an instance of the model\n",
    "lin_reg2 = LinearRegression()\n",
    "\n",
    "# train the model\n",
    "lin_reg2.fit(x_train_new_sc, y_train)"
   ]
  },
  {
   "cell_type": "markdown",
   "id": "d3de5b15",
   "metadata": {},
   "source": [
    "**Checking the model's performance**"
   ]
  },
  {
   "cell_type": "code",
   "execution_count": 932,
   "id": "7f2c450e",
   "metadata": {},
   "outputs": [
    {
     "data": {
      "text/html": [
       "<div>\n",
       "<style scoped>\n",
       "    .dataframe tbody tr th:only-of-type {\n",
       "        vertical-align: middle;\n",
       "    }\n",
       "\n",
       "    .dataframe tbody tr th {\n",
       "        vertical-align: top;\n",
       "    }\n",
       "\n",
       "    .dataframe thead th {\n",
       "        text-align: right;\n",
       "    }\n",
       "</style>\n",
       "<table border=\"1\" class=\"dataframe\">\n",
       "  <thead>\n",
       "    <tr style=\"text-align: right;\">\n",
       "      <th></th>\n",
       "      <th>Root_Mean_Squared_Error</th>\n",
       "      <th>Mean_Absolute_Error</th>\n",
       "      <th>R_squared</th>\n",
       "      <th>Adjusted_R_squared</th>\n",
       "      <th>Mean_Absolute_Percentage_Error</th>\n",
       "    </tr>\n",
       "  </thead>\n",
       "  <tbody>\n",
       "    <tr>\n",
       "      <th>0</th>\n",
       "      <td>0.283331</td>\n",
       "      <td>0.21168</td>\n",
       "      <td>0.891213</td>\n",
       "      <td>0.890987</td>\n",
       "      <td>inf</td>\n",
       "    </tr>\n",
       "  </tbody>\n",
       "</table>\n",
       "</div>"
      ],
      "text/plain": [
       "   Root_Mean_Squared_Error  Mean_Absolute_Error  R_squared  \\\n",
       "0                 0.283331              0.21168   0.891213   \n",
       "\n",
       "   Adjusted_R_squared  Mean_Absolute_Percentage_Error  \n",
       "0            0.890987                             inf  "
      ]
     },
     "execution_count": 932,
     "metadata": {},
     "output_type": "execute_result"
    }
   ],
   "source": [
    "# check the performance of the train data\n",
    "model_performance_regression(lin_reg2, x_train_new_sc, y_train)"
   ]
  },
  {
   "cell_type": "code",
   "execution_count": 933,
   "id": "8e44e0ad",
   "metadata": {},
   "outputs": [
    {
     "data": {
      "text/html": [
       "<div>\n",
       "<style scoped>\n",
       "    .dataframe tbody tr th:only-of-type {\n",
       "        vertical-align: middle;\n",
       "    }\n",
       "\n",
       "    .dataframe tbody tr th {\n",
       "        vertical-align: top;\n",
       "    }\n",
       "\n",
       "    .dataframe thead th {\n",
       "        text-align: right;\n",
       "    }\n",
       "</style>\n",
       "<table border=\"1\" class=\"dataframe\">\n",
       "  <thead>\n",
       "    <tr style=\"text-align: right;\">\n",
       "      <th></th>\n",
       "      <th>Root_Mean_Squared_Error</th>\n",
       "      <th>Mean_Absolute_Error</th>\n",
       "      <th>R_squared</th>\n",
       "      <th>Adjusted_R_squared</th>\n",
       "      <th>Mean_Absolute_Percentage_Error</th>\n",
       "    </tr>\n",
       "  </thead>\n",
       "  <tbody>\n",
       "    <tr>\n",
       "      <th>0</th>\n",
       "      <td>0.283066</td>\n",
       "      <td>0.20886</td>\n",
       "      <td>0.89265</td>\n",
       "      <td>0.891751</td>\n",
       "      <td>inf</td>\n",
       "    </tr>\n",
       "  </tbody>\n",
       "</table>\n",
       "</div>"
      ],
      "text/plain": [
       "   Root_Mean_Squared_Error  Mean_Absolute_Error  R_squared  \\\n",
       "0                 0.283066              0.20886    0.89265   \n",
       "\n",
       "   Adjusted_R_squared  Mean_Absolute_Percentage_Error  \n",
       "0            0.891751                             inf  "
      ]
     },
     "execution_count": 933,
     "metadata": {},
     "output_type": "execute_result"
    }
   ],
   "source": [
    "# check the performance of the test data\n",
    "model_performance_regression(lin_reg2, x_test_new_sc, y_test)"
   ]
  },
  {
   "cell_type": "markdown",
   "id": "1f646cb7",
   "metadata": {},
   "source": [
    "All three models gave similar error and accuracy percentages.\n",
    "- From the model above, it can be interpreted that when this model is fed new data similar to the one used to train it, it would accurately predict the price of the car approx. 89% of the time.\n",
    "- The RMSE is 28.3 on the train data and 28.3 on the test data\n",
    "- The MAE is 21.1 on the train data and 20.8 on the test data\n",
    "- The MAPE on both the test and train data is infinite. This is caused by the negative value in the log_price variable"
   ]
  },
  {
   "cell_type": "markdown",
   "id": "e7a44f66",
   "metadata": {},
   "source": [
    "**Plotting the correlation matrix of the important variables with the target variable**"
   ]
  },
  {
   "cell_type": "code",
   "execution_count": 934,
   "id": "07dbf49a",
   "metadata": {},
   "outputs": [
    {
     "data": {
      "text/html": [
       "<div>\n",
       "<style scoped>\n",
       "    .dataframe tbody tr th:only-of-type {\n",
       "        vertical-align: middle;\n",
       "    }\n",
       "\n",
       "    .dataframe tbody tr th {\n",
       "        vertical-align: top;\n",
       "    }\n",
       "\n",
       "    .dataframe thead th {\n",
       "        text-align: right;\n",
       "    }\n",
       "</style>\n",
       "<table border=\"1\" class=\"dataframe\">\n",
       "  <thead>\n",
       "    <tr style=\"text-align: right;\">\n",
       "      <th></th>\n",
       "      <th>Log_Price</th>\n",
       "    </tr>\n",
       "  </thead>\n",
       "  <tbody>\n",
       "    <tr>\n",
       "      <th>0</th>\n",
       "      <td>0.559616</td>\n",
       "    </tr>\n",
       "    <tr>\n",
       "      <th>1</th>\n",
       "      <td>2.525729</td>\n",
       "    </tr>\n",
       "    <tr>\n",
       "      <th>2</th>\n",
       "      <td>1.504077</td>\n",
       "    </tr>\n",
       "    <tr>\n",
       "      <th>3</th>\n",
       "      <td>1.791759</td>\n",
       "    </tr>\n",
       "    <tr>\n",
       "      <th>4</th>\n",
       "      <td>2.875822</td>\n",
       "    </tr>\n",
       "    <tr>\n",
       "      <th>...</th>\n",
       "      <td>...</td>\n",
       "    </tr>\n",
       "    <tr>\n",
       "      <th>6014</th>\n",
       "      <td>1.558145</td>\n",
       "    </tr>\n",
       "    <tr>\n",
       "      <th>6015</th>\n",
       "      <td>1.386294</td>\n",
       "    </tr>\n",
       "    <tr>\n",
       "      <th>6016</th>\n",
       "      <td>1.064711</td>\n",
       "    </tr>\n",
       "    <tr>\n",
       "      <th>6017</th>\n",
       "      <td>0.974560</td>\n",
       "    </tr>\n",
       "    <tr>\n",
       "      <th>6018</th>\n",
       "      <td>0.916291</td>\n",
       "    </tr>\n",
       "  </tbody>\n",
       "</table>\n",
       "<p>6019 rows × 1 columns</p>\n",
       "</div>"
      ],
      "text/plain": [
       "      Log_Price\n",
       "0      0.559616\n",
       "1      2.525729\n",
       "2      1.504077\n",
       "3      1.791759\n",
       "4      2.875822\n",
       "...         ...\n",
       "6014   1.558145\n",
       "6015   1.386294\n",
       "6016   1.064711\n",
       "6017   0.974560\n",
       "6018   0.916291\n",
       "\n",
       "[6019 rows x 1 columns]"
      ]
     },
     "execution_count": 934,
     "metadata": {},
     "output_type": "execute_result"
    }
   ],
   "source": [
    "#converting the target variable to a dataframe\n",
    "df_target = y.to_frame(name='Log_Price')\n",
    "df_target"
   ]
  },
  {
   "cell_type": "code",
   "execution_count": 935,
   "id": "75300298",
   "metadata": {},
   "outputs": [
    {
     "data": {
      "text/html": [
       "<div>\n",
       "<style scoped>\n",
       "    .dataframe tbody tr th:only-of-type {\n",
       "        vertical-align: middle;\n",
       "    }\n",
       "\n",
       "    .dataframe tbody tr th {\n",
       "        vertical-align: top;\n",
       "    }\n",
       "\n",
       "    .dataframe thead th {\n",
       "        text-align: right;\n",
       "    }\n",
       "</style>\n",
       "<table border=\"1\" class=\"dataframe\">\n",
       "  <thead>\n",
       "    <tr style=\"text-align: right;\">\n",
       "      <th></th>\n",
       "      <th>Kilometers_Driven</th>\n",
       "      <th>Mileage</th>\n",
       "      <th>Power</th>\n",
       "      <th>Car_Age</th>\n",
       "      <th>Location_Bangalore</th>\n",
       "      <th>Location_Coimbatore</th>\n",
       "      <th>Location_Hyderabad</th>\n",
       "      <th>Location_Kolkata</th>\n",
       "      <th>Fuel_Type_Diesel</th>\n",
       "      <th>Transmission_Manual</th>\n",
       "    </tr>\n",
       "  </thead>\n",
       "  <tbody>\n",
       "    <tr>\n",
       "      <th>0</th>\n",
       "      <td>72000</td>\n",
       "      <td>26.60</td>\n",
       "      <td>58.16</td>\n",
       "      <td>13.0</td>\n",
       "      <td>0</td>\n",
       "      <td>0</td>\n",
       "      <td>0</td>\n",
       "      <td>0</td>\n",
       "      <td>0</td>\n",
       "      <td>1</td>\n",
       "    </tr>\n",
       "    <tr>\n",
       "      <th>1</th>\n",
       "      <td>41000</td>\n",
       "      <td>19.67</td>\n",
       "      <td>126.20</td>\n",
       "      <td>8.0</td>\n",
       "      <td>0</td>\n",
       "      <td>0</td>\n",
       "      <td>0</td>\n",
       "      <td>0</td>\n",
       "      <td>1</td>\n",
       "      <td>1</td>\n",
       "    </tr>\n",
       "    <tr>\n",
       "      <th>2</th>\n",
       "      <td>46000</td>\n",
       "      <td>18.20</td>\n",
       "      <td>88.70</td>\n",
       "      <td>12.0</td>\n",
       "      <td>0</td>\n",
       "      <td>0</td>\n",
       "      <td>0</td>\n",
       "      <td>0</td>\n",
       "      <td>0</td>\n",
       "      <td>1</td>\n",
       "    </tr>\n",
       "    <tr>\n",
       "      <th>3</th>\n",
       "      <td>87000</td>\n",
       "      <td>20.77</td>\n",
       "      <td>88.76</td>\n",
       "      <td>11.0</td>\n",
       "      <td>0</td>\n",
       "      <td>0</td>\n",
       "      <td>0</td>\n",
       "      <td>0</td>\n",
       "      <td>1</td>\n",
       "      <td>1</td>\n",
       "    </tr>\n",
       "    <tr>\n",
       "      <th>4</th>\n",
       "      <td>40670</td>\n",
       "      <td>15.20</td>\n",
       "      <td>140.80</td>\n",
       "      <td>10.0</td>\n",
       "      <td>0</td>\n",
       "      <td>1</td>\n",
       "      <td>0</td>\n",
       "      <td>0</td>\n",
       "      <td>1</td>\n",
       "      <td>0</td>\n",
       "    </tr>\n",
       "    <tr>\n",
       "      <th>...</th>\n",
       "      <td>...</td>\n",
       "      <td>...</td>\n",
       "      <td>...</td>\n",
       "      <td>...</td>\n",
       "      <td>...</td>\n",
       "      <td>...</td>\n",
       "      <td>...</td>\n",
       "      <td>...</td>\n",
       "      <td>...</td>\n",
       "      <td>...</td>\n",
       "    </tr>\n",
       "    <tr>\n",
       "      <th>6014</th>\n",
       "      <td>27365</td>\n",
       "      <td>28.40</td>\n",
       "      <td>74.00</td>\n",
       "      <td>9.0</td>\n",
       "      <td>0</td>\n",
       "      <td>0</td>\n",
       "      <td>0</td>\n",
       "      <td>0</td>\n",
       "      <td>1</td>\n",
       "      <td>1</td>\n",
       "    </tr>\n",
       "    <tr>\n",
       "      <th>6015</th>\n",
       "      <td>100000</td>\n",
       "      <td>24.40</td>\n",
       "      <td>71.00</td>\n",
       "      <td>8.0</td>\n",
       "      <td>0</td>\n",
       "      <td>0</td>\n",
       "      <td>0</td>\n",
       "      <td>0</td>\n",
       "      <td>1</td>\n",
       "      <td>1</td>\n",
       "    </tr>\n",
       "    <tr>\n",
       "      <th>6016</th>\n",
       "      <td>55000</td>\n",
       "      <td>14.00</td>\n",
       "      <td>112.00</td>\n",
       "      <td>11.0</td>\n",
       "      <td>0</td>\n",
       "      <td>0</td>\n",
       "      <td>0</td>\n",
       "      <td>0</td>\n",
       "      <td>1</td>\n",
       "      <td>1</td>\n",
       "    </tr>\n",
       "    <tr>\n",
       "      <th>6017</th>\n",
       "      <td>46000</td>\n",
       "      <td>18.90</td>\n",
       "      <td>67.10</td>\n",
       "      <td>10.0</td>\n",
       "      <td>0</td>\n",
       "      <td>0</td>\n",
       "      <td>0</td>\n",
       "      <td>1</td>\n",
       "      <td>0</td>\n",
       "      <td>1</td>\n",
       "    </tr>\n",
       "    <tr>\n",
       "      <th>6018</th>\n",
       "      <td>47000</td>\n",
       "      <td>25.44</td>\n",
       "      <td>57.60</td>\n",
       "      <td>12.0</td>\n",
       "      <td>0</td>\n",
       "      <td>0</td>\n",
       "      <td>1</td>\n",
       "      <td>0</td>\n",
       "      <td>1</td>\n",
       "      <td>1</td>\n",
       "    </tr>\n",
       "  </tbody>\n",
       "</table>\n",
       "<p>6019 rows × 10 columns</p>\n",
       "</div>"
      ],
      "text/plain": [
       "      Kilometers_Driven  Mileage   Power  Car_Age  Location_Bangalore  \\\n",
       "0                 72000    26.60   58.16     13.0                   0   \n",
       "1                 41000    19.67  126.20      8.0                   0   \n",
       "2                 46000    18.20   88.70     12.0                   0   \n",
       "3                 87000    20.77   88.76     11.0                   0   \n",
       "4                 40670    15.20  140.80     10.0                   0   \n",
       "...                 ...      ...     ...      ...                 ...   \n",
       "6014              27365    28.40   74.00      9.0                   0   \n",
       "6015             100000    24.40   71.00      8.0                   0   \n",
       "6016              55000    14.00  112.00     11.0                   0   \n",
       "6017              46000    18.90   67.10     10.0                   0   \n",
       "6018              47000    25.44   57.60     12.0                   0   \n",
       "\n",
       "      Location_Coimbatore  Location_Hyderabad  Location_Kolkata  \\\n",
       "0                       0                   0                 0   \n",
       "1                       0                   0                 0   \n",
       "2                       0                   0                 0   \n",
       "3                       0                   0                 0   \n",
       "4                       1                   0                 0   \n",
       "...                   ...                 ...               ...   \n",
       "6014                    0                   0                 0   \n",
       "6015                    0                   0                 0   \n",
       "6016                    0                   0                 0   \n",
       "6017                    0                   0                 1   \n",
       "6018                    0                   1                 0   \n",
       "\n",
       "      Fuel_Type_Diesel  Transmission_Manual  \n",
       "0                    0                    1  \n",
       "1                    1                    1  \n",
       "2                    0                    1  \n",
       "3                    1                    1  \n",
       "4                    1                    0  \n",
       "...                ...                  ...  \n",
       "6014                 1                    1  \n",
       "6015                 1                    1  \n",
       "6016                 1                    1  \n",
       "6017                 0                    1  \n",
       "6018                 1                    1  \n",
       "\n",
       "[6019 rows x 10 columns]"
      ]
     },
     "execution_count": 935,
     "metadata": {},
     "output_type": "execute_result"
    }
   ],
   "source": [
    "# Getting the important variables\n",
    "important_df = X[X.columns[feat_cols]]\n",
    "important_df"
   ]
  },
  {
   "cell_type": "code",
   "execution_count": 936,
   "id": "38fc8df2",
   "metadata": {},
   "outputs": [
    {
     "data": {
      "text/html": [
       "<div>\n",
       "<style scoped>\n",
       "    .dataframe tbody tr th:only-of-type {\n",
       "        vertical-align: middle;\n",
       "    }\n",
       "\n",
       "    .dataframe tbody tr th {\n",
       "        vertical-align: top;\n",
       "    }\n",
       "\n",
       "    .dataframe thead th {\n",
       "        text-align: right;\n",
       "    }\n",
       "</style>\n",
       "<table border=\"1\" class=\"dataframe\">\n",
       "  <thead>\n",
       "    <tr style=\"text-align: right;\">\n",
       "      <th></th>\n",
       "      <th>Kilometers_Driven</th>\n",
       "      <th>Mileage</th>\n",
       "      <th>Power</th>\n",
       "      <th>Car_Age</th>\n",
       "      <th>Location_Bangalore</th>\n",
       "      <th>Location_Coimbatore</th>\n",
       "      <th>Location_Hyderabad</th>\n",
       "      <th>Location_Kolkata</th>\n",
       "      <th>Fuel_Type_Diesel</th>\n",
       "      <th>Transmission_Manual</th>\n",
       "      <th>Log_Price</th>\n",
       "    </tr>\n",
       "  </thead>\n",
       "  <tbody>\n",
       "    <tr>\n",
       "      <th>0</th>\n",
       "      <td>72000</td>\n",
       "      <td>26.60</td>\n",
       "      <td>58.16</td>\n",
       "      <td>13.0</td>\n",
       "      <td>0</td>\n",
       "      <td>0</td>\n",
       "      <td>0</td>\n",
       "      <td>0</td>\n",
       "      <td>0</td>\n",
       "      <td>1</td>\n",
       "      <td>0.559616</td>\n",
       "    </tr>\n",
       "    <tr>\n",
       "      <th>1</th>\n",
       "      <td>41000</td>\n",
       "      <td>19.67</td>\n",
       "      <td>126.20</td>\n",
       "      <td>8.0</td>\n",
       "      <td>0</td>\n",
       "      <td>0</td>\n",
       "      <td>0</td>\n",
       "      <td>0</td>\n",
       "      <td>1</td>\n",
       "      <td>1</td>\n",
       "      <td>2.525729</td>\n",
       "    </tr>\n",
       "    <tr>\n",
       "      <th>2</th>\n",
       "      <td>46000</td>\n",
       "      <td>18.20</td>\n",
       "      <td>88.70</td>\n",
       "      <td>12.0</td>\n",
       "      <td>0</td>\n",
       "      <td>0</td>\n",
       "      <td>0</td>\n",
       "      <td>0</td>\n",
       "      <td>0</td>\n",
       "      <td>1</td>\n",
       "      <td>1.504077</td>\n",
       "    </tr>\n",
       "    <tr>\n",
       "      <th>3</th>\n",
       "      <td>87000</td>\n",
       "      <td>20.77</td>\n",
       "      <td>88.76</td>\n",
       "      <td>11.0</td>\n",
       "      <td>0</td>\n",
       "      <td>0</td>\n",
       "      <td>0</td>\n",
       "      <td>0</td>\n",
       "      <td>1</td>\n",
       "      <td>1</td>\n",
       "      <td>1.791759</td>\n",
       "    </tr>\n",
       "    <tr>\n",
       "      <th>4</th>\n",
       "      <td>40670</td>\n",
       "      <td>15.20</td>\n",
       "      <td>140.80</td>\n",
       "      <td>10.0</td>\n",
       "      <td>0</td>\n",
       "      <td>1</td>\n",
       "      <td>0</td>\n",
       "      <td>0</td>\n",
       "      <td>1</td>\n",
       "      <td>0</td>\n",
       "      <td>2.875822</td>\n",
       "    </tr>\n",
       "    <tr>\n",
       "      <th>...</th>\n",
       "      <td>...</td>\n",
       "      <td>...</td>\n",
       "      <td>...</td>\n",
       "      <td>...</td>\n",
       "      <td>...</td>\n",
       "      <td>...</td>\n",
       "      <td>...</td>\n",
       "      <td>...</td>\n",
       "      <td>...</td>\n",
       "      <td>...</td>\n",
       "      <td>...</td>\n",
       "    </tr>\n",
       "    <tr>\n",
       "      <th>6014</th>\n",
       "      <td>27365</td>\n",
       "      <td>28.40</td>\n",
       "      <td>74.00</td>\n",
       "      <td>9.0</td>\n",
       "      <td>0</td>\n",
       "      <td>0</td>\n",
       "      <td>0</td>\n",
       "      <td>0</td>\n",
       "      <td>1</td>\n",
       "      <td>1</td>\n",
       "      <td>1.558145</td>\n",
       "    </tr>\n",
       "    <tr>\n",
       "      <th>6015</th>\n",
       "      <td>100000</td>\n",
       "      <td>24.40</td>\n",
       "      <td>71.00</td>\n",
       "      <td>8.0</td>\n",
       "      <td>0</td>\n",
       "      <td>0</td>\n",
       "      <td>0</td>\n",
       "      <td>0</td>\n",
       "      <td>1</td>\n",
       "      <td>1</td>\n",
       "      <td>1.386294</td>\n",
       "    </tr>\n",
       "    <tr>\n",
       "      <th>6016</th>\n",
       "      <td>55000</td>\n",
       "      <td>14.00</td>\n",
       "      <td>112.00</td>\n",
       "      <td>11.0</td>\n",
       "      <td>0</td>\n",
       "      <td>0</td>\n",
       "      <td>0</td>\n",
       "      <td>0</td>\n",
       "      <td>1</td>\n",
       "      <td>1</td>\n",
       "      <td>1.064711</td>\n",
       "    </tr>\n",
       "    <tr>\n",
       "      <th>6017</th>\n",
       "      <td>46000</td>\n",
       "      <td>18.90</td>\n",
       "      <td>67.10</td>\n",
       "      <td>10.0</td>\n",
       "      <td>0</td>\n",
       "      <td>0</td>\n",
       "      <td>0</td>\n",
       "      <td>1</td>\n",
       "      <td>0</td>\n",
       "      <td>1</td>\n",
       "      <td>0.974560</td>\n",
       "    </tr>\n",
       "    <tr>\n",
       "      <th>6018</th>\n",
       "      <td>47000</td>\n",
       "      <td>25.44</td>\n",
       "      <td>57.60</td>\n",
       "      <td>12.0</td>\n",
       "      <td>0</td>\n",
       "      <td>0</td>\n",
       "      <td>1</td>\n",
       "      <td>0</td>\n",
       "      <td>1</td>\n",
       "      <td>1</td>\n",
       "      <td>0.916291</td>\n",
       "    </tr>\n",
       "  </tbody>\n",
       "</table>\n",
       "<p>6019 rows × 11 columns</p>\n",
       "</div>"
      ],
      "text/plain": [
       "      Kilometers_Driven  Mileage   Power  Car_Age  Location_Bangalore  \\\n",
       "0                 72000    26.60   58.16     13.0                   0   \n",
       "1                 41000    19.67  126.20      8.0                   0   \n",
       "2                 46000    18.20   88.70     12.0                   0   \n",
       "3                 87000    20.77   88.76     11.0                   0   \n",
       "4                 40670    15.20  140.80     10.0                   0   \n",
       "...                 ...      ...     ...      ...                 ...   \n",
       "6014              27365    28.40   74.00      9.0                   0   \n",
       "6015             100000    24.40   71.00      8.0                   0   \n",
       "6016              55000    14.00  112.00     11.0                   0   \n",
       "6017              46000    18.90   67.10     10.0                   0   \n",
       "6018              47000    25.44   57.60     12.0                   0   \n",
       "\n",
       "      Location_Coimbatore  Location_Hyderabad  Location_Kolkata  \\\n",
       "0                       0                   0                 0   \n",
       "1                       0                   0                 0   \n",
       "2                       0                   0                 0   \n",
       "3                       0                   0                 0   \n",
       "4                       1                   0                 0   \n",
       "...                   ...                 ...               ...   \n",
       "6014                    0                   0                 0   \n",
       "6015                    0                   0                 0   \n",
       "6016                    0                   0                 0   \n",
       "6017                    0                   0                 1   \n",
       "6018                    0                   1                 0   \n",
       "\n",
       "      Fuel_Type_Diesel  Transmission_Manual  Log_Price  \n",
       "0                    0                    1   0.559616  \n",
       "1                    1                    1   2.525729  \n",
       "2                    0                    1   1.504077  \n",
       "3                    1                    1   1.791759  \n",
       "4                    1                    0   2.875822  \n",
       "...                ...                  ...        ...  \n",
       "6014                 1                    1   1.558145  \n",
       "6015                 1                    1   1.386294  \n",
       "6016                 1                    1   1.064711  \n",
       "6017                 0                    1   0.974560  \n",
       "6018                 1                    1   0.916291  \n",
       "\n",
       "[6019 rows x 11 columns]"
      ]
     },
     "execution_count": 936,
     "metadata": {},
     "output_type": "execute_result"
    }
   ],
   "source": [
    "# merging the target dataframe with the important variables dataframe\n",
    "important_df = important_df.assign(Log_Price = df_target['Log_Price'])\n",
    "important_df"
   ]
  },
  {
   "cell_type": "code",
   "execution_count": 937,
   "id": "861197d0",
   "metadata": {},
   "outputs": [
    {
     "data": {
      "image/png": "[encoded data removed]",
      "text/plain": [
       "<Figure size 1080x504 with 2 Axes>"
      ]
     },
     "metadata": {
      "needs_background": "light"
     },
     "output_type": "display_data"
    }
   ],
   "source": [
    "# Plotting the correlation between the important variables and the target variable\n",
    "plt.figure(figsize=(15, 7))\n",
    "sns.heatmap(important_df.corr(), annot=True, vmin=-1, vmax=1, fmt=\".2f\")\n",
    "plt.show()"
   ]
  },
  {
   "cell_type": "markdown",
   "id": "c1937726",
   "metadata": {},
   "source": [
    "**Observation**\n",
    "- Power has a strong positive correlation with the target variable.\n",
    "- Car_Age and Transmission_Manual are moderately negatively correlated with the target variable\n",
    "- Fuel_TypeType_Diesel has a low positive correlation with the target variable\n",
    "- Mileage has a low negative correlation with the target variable"
   ]
  },
  {
   "cell_type": "markdown",
   "id": "6cb6ed21",
   "metadata": {},
   "source": [
    "### Results"
   ]
  },
  {
   "cell_type": "markdown",
   "id": "ac1747ad",
   "metadata": {},
   "source": [
    "Since the performance of the model did not improve after feature selection, we can say that we have been able to build the model and achieve similar results with a smaller number of variables. This would be beneficial to the business as a cost-saving initiative."
   ]
  },
  {
   "cell_type": "markdown",
   "id": "7f09c917",
   "metadata": {},
   "source": [
    "### Recommendations"
   ]
  },
  {
   "cell_type": "markdown",
   "id": "a3c8cf9d",
   "metadata": {},
   "source": [
    "From the insights gathered from the visualisations, the following recommendations is presented to Cars4U:  \n",
    "\n",
    "1. Mumbai, Hyderabad and Kochi are the locations where most cars are purchased. This is due to the fact that cars sold in these places are moderately priced. It would be beneficial to focus business and marketing strenght in these areas for a chance at profitability. Higher priced location may prove to be too much competition as the business is yet to establish a brand presence and build consumer trust. Alternatively, lower priced locations run the risk of reduced profitability for the business.  \n",
    "\n",
    "\n",
    "2. Customers are more predisposed to cars with the following specifications:\n",
    "- Car Age: 6 - 11 years (Not too old to be a liability and not too new to be expensive)\n",
    "- Fuel Type: Diesel and Petrol (This is the preferred vehicle fuel type for consumers)\n",
    "- Transmission: Manual (Less expensive than the automatic counterparts)\n",
    "- Car Seats: 5 seats (Generally less expensive that other cars with higher or lower number of seats)\n",
    "- Owner Type: First Owner (Less expensive to maintain in the long run, as the probability for the car developing a fault is low due to proper maintenanance from the first owner).  \n",
    "It is recommended that the company starts by selling pre-owned cars with these specifications, before gradually expanding to other specifications."
   ]
  },
  {
   "cell_type": "code",
   "execution_count": null,
   "id": "9fa04ffb",
   "metadata": {},
   "outputs": [],
   "source": []
  }
 ],
 "metadata": {
  "kernelspec": {
   "display_name": "Python 3 (ipykernel)",
   "language": "python",
   "name": "python3"
  },
  "language_info": {
   "codemirror_mode": {
    "name": "ipython",
    "version": 3
   },
   "file_extension": ".py",
   "mimetype": "text/x-python",
   "name": "python",
   "nbconvert_exporter": "python",
   "pygments_lexer": "ipython3",
   "version": "3.9.12"
  }
 },
 "nbformat": 4,
 "nbformat_minor": 5
}
